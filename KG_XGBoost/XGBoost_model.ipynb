{
 "cells": [
  {
   "cell_type": "code",
   "execution_count": 4,
   "id": "21deab03-ad5d-4358-ac55-a48e9ebcadfc",
   "metadata": {},
   "outputs": [],
   "source": [
    "#!pip install -r requirements.txt"
   ]
  },
  {
   "cell_type": "code",
   "execution_count": 5,
   "id": "b5ee70d0-1736-4142-a6f2-b47c265bd3ae",
   "metadata": {},
   "outputs": [],
   "source": [
    "import pandas as pd\n",
    "import numpy as np\n",
    "import xgboost as xgb\n",
    "import optuna \n",
    "from optuna import Trial, visualization\n",
    "from optuna.samplers import TPESampler\n",
    "from matplotlib import pyplot\n",
    "import recmetrics\n",
    "import sys\n",
    "import pprint\n",
    "import tqdm\n",
    "\n",
    "\n",
    "from prediction import LtrPrediction\n",
    "from processing import DataPreprocessing\n",
    "import ltr_utils as ut"
   ]
  },
  {
   "cell_type": "markdown",
   "id": "30865fa3-569a-43ea-ac25-d73e9c50e93b",
   "metadata": {},
   "source": [
    "## Data Sampling"
   ]
  },
  {
   "cell_type": "code",
   "execution_count": 6,
   "id": "aeca2cd8-08e8-48fa-9798-619be95e2025",
   "metadata": {},
   "outputs": [],
   "source": [
    "dv_train = pd.read_csv('recsys_data/train.csv')\n",
    "x = dv_train[dv_train['response'] == 1].groupby('ip').size().reset_index(name='num_clicks').sort_values(by=['num_clicks'], ascending=False)['ip'].head(100)\n",
    "df_ip = pd.DataFrame({'ip':x})\n",
    "dv_train = pd.merge(dv_train,df_ip,on='ip')"
   ]
  },
  {
   "cell_type": "code",
   "execution_count": 7,
   "id": "ee3c73d8-0463-4c1e-bd6a-a706112eace1",
   "metadata": {},
   "outputs": [
    {
     "data": {
      "text/plain": [
       "ip            100\n",
       "event_date     10\n",
       "tcm_id         66\n",
       "response        2\n",
       "dtype: int64"
      ]
     },
     "execution_count": 7,
     "metadata": {},
     "output_type": "execute_result"
    }
   ],
   "source": [
    "dv_train.nunique()"
   ]
  },
  {
   "cell_type": "code",
   "execution_count": 8,
   "id": "0d20a12a-a0d0-4c17-b3af-f05c99b5301c",
   "metadata": {},
   "outputs": [
    {
     "data": {
      "text/plain": [
       "8090"
      ]
     },
     "execution_count": 8,
     "metadata": {},
     "output_type": "execute_result"
    }
   ],
   "source": [
    "len(dv_train)"
   ]
  },
  {
   "cell_type": "code",
   "execution_count": 9,
   "id": "ced060bf-4e9b-45cd-88f1-02e4e98d6da2",
   "metadata": {},
   "outputs": [],
   "source": [
    "dv_test = pd.read_csv('recsys_data/test_all.csv')\n",
    "dv_test = pd.merge(dv_test,df_ip,on='ip')"
   ]
  },
  {
   "cell_type": "code",
   "execution_count": 10,
   "id": "e831db0b-0c8b-4adf-b3e5-a219c52fef17",
   "metadata": {},
   "outputs": [
    {
     "data": {
      "text/plain": [
       "ip            100\n",
       "event_date      1\n",
       "tcm_id         66\n",
       "response        2\n",
       "dtype: int64"
      ]
     },
     "execution_count": 10,
     "metadata": {},
     "output_type": "execute_result"
    }
   ],
   "source": [
    "dv_test = dv_test.drop(['Unnamed: 0'], axis=1)\n",
    "dv_test.nunique()"
   ]
  },
  {
   "cell_type": "code",
   "execution_count": 11,
   "id": "aa7ee942-28e3-4321-8569-43f8e25e5d30",
   "metadata": {},
   "outputs": [
    {
     "data": {
      "text/plain": [
       "6600"
      ]
     },
     "execution_count": 11,
     "metadata": {},
     "output_type": "execute_result"
    }
   ],
   "source": [
    "len(dv_test)"
   ]
  },
  {
   "cell_type": "code",
   "execution_count": 12,
   "id": "f17735ba-26b9-419b-a402-b02bed69a7f3",
   "metadata": {},
   "outputs": [],
   "source": [
    "dv_test = dv_test.head(1000)\n",
    "dv_train = dv_train.head(1000)"
   ]
  },
  {
   "cell_type": "code",
   "execution_count": 13,
   "id": "104a76d5-acd7-4fc0-b21d-d41218385615",
   "metadata": {},
   "outputs": [],
   "source": [
    "dv_train.to_csv('outputs/sample_train.csv')\n",
    "dv_test.to_csv('outputs/sample_test.csv')"
   ]
  },
  {
   "cell_type": "markdown",
   "id": "d47c6d61-09bc-43fe-9da2-818612a5b177",
   "metadata": {},
   "source": [
    "## Data Preprocessing"
   ]
  },
  {
   "cell_type": "code",
   "execution_count": 14,
   "id": "20e0ec0b-e585-4c43-a85e-28b0ee752527",
   "metadata": {},
   "outputs": [],
   "source": [
    "data_dict = {\n",
    "    'train' : 'outputs/sample_train.csv',\n",
    "    'test' : 'outputs/sample_test.csv',\n",
    "    'articles' : 'recsys_data/articles.csv',\n",
    "    'users' : 'recsys_data/users.csv'\n",
    "}"
   ]
  },
  {
   "cell_type": "code",
   "execution_count": 15,
   "id": "c03c65c7-8e96-45a8-8448-a0f9a7aa35ef",
   "metadata": {},
   "outputs": [
    {
     "name": "stdout",
     "output_type": "stream",
     "text": [
      "(788, 19) (869, 19)\n"
     ]
    }
   ],
   "source": [
    "DataPrep = DataPreprocessing(data_dict)"
   ]
  },
  {
   "cell_type": "raw",
   "id": "8899a75b-03fb-4114-891f-64fd61490df5",
   "metadata": {},
   "source": [
    "'''\n",
    "KG PATHS\n",
    "        'KG_ConceptNet_100'  : 'outputs/KGs/KG_ConceptNet_100.txt',\n",
    "        'KG_dep_parsing_100' : 'outputs/KGs/KG_dep_parsing_100.txt',\n",
    "        'KG_dep_parsing_500' : 'outputs/KGs/KG_dep_parsing_500.txt'\n",
    "'''"
   ]
  },
  {
   "cell_type": "code",
   "execution_count": 16,
   "id": "32d7de59-7b3e-42c4-b83e-576c2bf900f4",
   "metadata": {},
   "outputs": [],
   "source": [
    "DataPrep.init_KG('outputs/KGs/KG_dep_parsing_100terms.txt')"
   ]
  },
  {
   "cell_type": "code",
   "execution_count": 17,
   "id": "26ad61e2-4394-4b6e-bdbf-319a3b5fb1f9",
   "metadata": {},
   "outputs": [],
   "source": [
    "DataPrep.init_SentenceTransformer('all-MiniLM-L6-v2')"
   ]
  },
  {
   "cell_type": "code",
   "execution_count": 18,
   "id": "604e91d3-85c6-4c0a-b363-3bab4d687489",
   "metadata": {},
   "outputs": [
    {
     "name": "stderr",
     "output_type": "stream",
     "text": [
      "100%|██████████| 869/869 [00:28<00:00, 30.14it/s]\n",
      "100%|██████████| 869/869 [00:06<00:00, 141.90it/s]\n",
      "/opt/conda/lib/python3.7/site-packages/sklearn/utils/deprecation.py:87: FutureWarning: Function get_feature_names is deprecated; get_feature_names is deprecated in 1.0 and will be removed in 1.2. Please use get_feature_names_out instead.\n",
      "  warnings.warn(msg, category=FutureWarning)\n",
      "100%|██████████| 788/788 [00:24<00:00, 32.55it/s]\n",
      "100%|██████████| 788/788 [00:05<00:00, 135.26it/s]\n"
     ]
    }
   ],
   "source": [
    "train_data_df, test_data_df = DataPrep.fit_data_pipeline()"
   ]
  },
  {
   "cell_type": "raw",
   "id": "88001595-1f76-400c-b993-d5b95966327e",
   "metadata": {},
   "source": [
    "'''\n",
    "FEATURE SELECTION\n",
    "            ['art'],\n",
    "            ['art','usr'],\n",
    "            ['art','st'],\n",
    "            ['art','st','usr'],\n",
    "            ['art','kg'],\n",
    "            ['art','usr','kg']\n",
    "            ['art','usr','st','kg']\n",
    "'''"
   ]
  },
  {
   "cell_type": "code",
   "execution_count": 19,
   "id": "de7771d2-1cb1-44e9-aa0d-917493d0e5a4",
   "metadata": {},
   "outputs": [
    {
     "name": "stdout",
     "output_type": "stream",
     "text": [
      "(869, 151) (869, 1) (788, 151) (788, 1)\n"
     ]
    }
   ],
   "source": [
    "processed_data_dict = DataPrep.get_train_test_split(['art','usr','kg','st'])"
   ]
  },
  {
   "cell_type": "code",
   "execution_count": 20,
   "id": "d9179e17-29a6-42e2-9e88-d3969aff7d30",
   "metadata": {},
   "outputs": [],
   "source": [
    "X_train, y_train, groups_train, qid_train, X_test, y_test, qid_test, groups_test = processed_data_dict['train_test']\n",
    "test_data = processed_data_dict['test_data']"
   ]
  },
  {
   "cell_type": "markdown",
   "id": "baf7bd8c-426c-4f21-a777-33bcc8155680",
   "metadata": {},
   "source": [
    "## Model Training"
   ]
  },
  {
   "cell_type": "code",
   "execution_count": 21,
   "id": "0143a9a0-fd07-412a-bf34-3e85f9800a3e",
   "metadata": {},
   "outputs": [
    {
     "name": "stdout",
     "output_type": "stream",
     "text": [
      "default Train :   0.7064806120303149\n",
      "default Test  :   0.12259816035210382\n"
     ]
    }
   ],
   "source": [
    "xgb_params = {  'booster':\"gbtree\", \n",
    "                'objective':\"rank:pairwise\",\n",
    "                'tree_method':\"gpu_hist\", \n",
    "                'sampling_method':\"gradient_based\",\n",
    "                'eval_metric':['map@10'],\n",
    "             }\n",
    "\n",
    "model = xgb.XGBRanker(**xgb_params)\n",
    "\n",
    "\n",
    "model.fit(X_train, y_train, group=groups_train, eval_set=[(X_train, y_train),(X_test, y_test)], eval_group=[groups_train,groups_test],  verbose=False)\n",
    "\n",
    "result = model.evals_result()\n",
    "train_score = np.mean(result['validation_0']['map@10'])\n",
    "test_score = np.mean(result['validation_1']['map@10'])\n",
    "print('default Train :  ', train_score)\n",
    "print('default Test  :  ', test_score)"
   ]
  },
  {
   "cell_type": "markdown",
   "id": "2a8491be-ef51-4ab7-b7e1-fa2a2e011bb4",
   "metadata": {},
   "source": [
    "## Hyperparameter Tuning"
   ]
  },
  {
   "cell_type": "code",
   "execution_count": 22,
   "id": "246b4554-f898-481e-b922-ec6db0e1a746",
   "metadata": {},
   "outputs": [],
   "source": [
    "def objective(trial):\n",
    "\n",
    "        metric = \"map@10\"\n",
    "\n",
    "        tuning_params = {\n",
    "                    \"max_depth\": trial.suggest_int(\"max_depth\", 2, 8, step=1),\n",
    "                    \"subsample\": trial.suggest_float(\"subsample\", 0.5, 0.8, step=0.05),\n",
    "                    \"colsample_bytree\": trial.suggest_float(\"colsample_bytree\", 0.5, 0.8, step=0.05),\n",
    "                    \"reg_lambda\": trial.suggest_float(\"reg_lambda\", 0.01, 10.0, step=0.01),\n",
    "                    \"alpha\": trial.suggest_float(\"alpha\", 1e-8, 1.0),\n",
    "                    \"min_child_weight\": trial.suggest_float(\"min_child_weight\", 0.01, 10.0, step=0.01),\n",
    "                    \"gamma\": trial.suggest_float(\"gamma\", 0.01, 10.0, step=0.01),\n",
    "                    \"max_delta_step\":  trial.suggest_float(\"max_delta_step\", 0.01, 10.0, step=0.01),\n",
    "                    \"eta\": trial.suggest_float(\"eta\", 0.001, 10.0, step=0.001)\n",
    "\n",
    "                }\n",
    "        \n",
    "        pruning_callback = optuna.integration.XGBoostPruningCallback(trial, \"validation_0-map@10\")\n",
    "\n",
    "        model = xgb.XGBRanker(booster=\"gbtree\", objective=\"rank:pairwise\",\n",
    "                            tree_method=\"gpu_hist\", sampling_method=\"gradient_based\",\n",
    "                            eval_metric=metric,\n",
    "                            verbosity=1,\n",
    "                            n_estimators=5000,\n",
    "                            early_stopping_rounds = 100, \n",
    "                            callbacks=[pruning_callback],\n",
    "                            **tuning_params)\n",
    "\n",
    "        model.fit(X_train, y_train, group=groups_train, eval_set=[(X_test, y_test)], eval_group=[groups_test],   verbose=False)\n",
    "\n",
    "        result = model.evals_result()\n",
    "        opt_score1 = np.mean(result['validation_0'][metric])\n",
    "\n",
    "        if trial.should_prune():\n",
    "            raise optuna.exceptions.TrialPruned()\n",
    "\n",
    "        return opt_score1\n",
    "\n",
    "# optuna.logging.WARNING\n",
    "optuna.logging.set_verbosity(optuna.logging.WARNING)\n",
    "\n",
    "pruner = optuna.pruners.MedianPruner(n_warmup_steps=20)\n",
    "study = optuna.create_study(pruner=pruner, direction='maximize')\n",
    "study.optimize(objective, n_trials=50)"
   ]
  },
  {
   "cell_type": "code",
   "execution_count": 23,
   "id": "cf65c64a-7c4a-4764-b040-004355e85005",
   "metadata": {},
   "outputs": [
    {
     "name": "stdout",
     "output_type": "stream",
     "text": [
      "Optimized MAP: 0.1647\n",
      "Best params:\n",
      "\tmax_depth: 7\n",
      "\tsubsample: 0.75\n",
      "\tcolsample_bytree: 0.65\n",
      "\treg_lambda: 8.85\n",
      "\talpha: 0.1547154892783072\n",
      "\tmin_child_weight: 2.02\n",
      "\tgamma: 2.17\n",
      "\tmax_delta_step: 4.22\n",
      "\teta: 0.739\n"
     ]
    }
   ],
   "source": [
    "print(f\"Optimized MAP: {study.best_value:.4f}\")\n",
    "print(\"Best params:\")\n",
    "for key, value in study.best_params.items():\n",
    "    print(f\"\\t{key}: {value}\")"
   ]
  },
  {
   "cell_type": "code",
   "execution_count": 24,
   "id": "acd83b4b-21cc-4228-b657-24c272133855",
   "metadata": {},
   "outputs": [
    {
     "name": "stdout",
     "output_type": "stream",
     "text": [
      "Optimized Train :   0.6016643380725071\n",
      "Optimized Test  :   0.1545225103930461\n"
     ]
    }
   ],
   "source": [
    "metric = \"map@10\"\n",
    "\n",
    "model_bst = xgb.XGBRanker(booster=\"gbtree\", objective=\"rank:pairwise\",\n",
    "                        tree_method=\"gpu_hist\", sampling_method=\"gradient_based\",\n",
    "                        eval_metric=metric,\n",
    "                        n_estimators=5000,\n",
    "                        early_stopping_rounds = 50, \n",
    "                        verbosity=0,\n",
    "                        **study.best_params)\n",
    "\n",
    "model_bst.fit(X_train, y_train, group=groups_train, eval_set=[(X_train, y_train),(X_test, y_test)], eval_group=[groups_train,groups_test],  verbose=False)\n",
    "result = model_bst.evals_result()\n",
    "train_score = np.max(result['validation_0']['map@10'])\n",
    "test_score = np.max(result['validation_1']['map@10'])\n",
    "print('Optimized Train :  ', train_score)\n",
    "print('Optimized Test  :  ', test_score)"
   ]
  },
  {
   "cell_type": "code",
   "execution_count": 25,
   "id": "2542a9d8-70b5-4032-8a4c-91ae26cfcd31",
   "metadata": {},
   "outputs": [
    {
     "data": {
      "image/png": "[encoded data removed]",
      "text/plain": [
       "<Figure size 640x480 with 1 Axes>"
      ]
     },
     "metadata": {},
     "output_type": "display_data"
    }
   ],
   "source": [
    "# plot learning curves\n",
    "pyplot.plot(result['validation_0']['map@10'], label='train')\n",
    "pyplot.plot(result['validation_1']['map@10'], label='test')\n",
    "# show the legend\n",
    "pyplot.legend()\n",
    "pyplot.rcParams[\"figure.figsize\"] = (10,5)\n",
    "# show the plot\n",
    "pyplot.show()"
   ]
  },
  {
   "cell_type": "markdown",
   "id": "d7b76587-40e9-4f2c-941b-e2fa5f555360",
   "metadata": {},
   "source": [
    "## Model Evaluation"
   ]
  },
  {
   "cell_type": "code",
   "execution_count": 26,
   "id": "70cdf7a1-32f4-45d0-9253-7f686825fa90",
   "metadata": {},
   "outputs": [],
   "source": [
    "xgb_Prediction = LtrPrediction(model_bst, test_data)"
   ]
  },
  {
   "cell_type": "code",
   "execution_count": 27,
   "id": "7d0b4d31-3f32-402e-b2eb-08971e1471e2",
   "metadata": {},
   "outputs": [
    {
     "data": {
      "text/plain": [
       "{'MAP@10': 0.09815734441924917,\n",
       " 'Prediction_Coverage': 21.15,\n",
       " 'Catalog_Coverage': 21.15,\n",
       " 'Novelty': 0.0744875235131852,\n",
       " 'personalization': 0.06285714285714272}"
      ]
     },
     "execution_count": 27,
     "metadata": {},
     "output_type": "execute_result"
    }
   ],
   "source": [
    "results = xgb_Prediction.evaluate()\n",
    "results"
   ]
  },
  {
   "cell_type": "code",
   "execution_count": 28,
   "id": "4a604bef-955d-47a8-9326-82cc52938c97",
   "metadata": {},
   "outputs": [],
   "source": [
    "top_k_best_score_ips = xgb_Prediction.get_recomendation()"
   ]
  },
  {
   "cell_type": "code",
   "execution_count": 29,
   "id": "08600799-281d-4b56-a9cf-5d1e04e96e6f",
   "metadata": {},
   "outputs": [],
   "source": [
    "tcm_le = DataPrep.return_inverse_transform()\n",
    "top_k_best_score_ips['article_actual_ids'] = top_k_best_score_ips.apply(lambda row: tcm_le.inverse_transform(row['article_actual']) ,axis=1)\n",
    "top_k_best_score_ips['article_recomended_ids'] = top_k_best_score_ips.apply(lambda row: tcm_le.inverse_transform(row['article_prediction']) ,axis=1)"
   ]
  },
  {
   "cell_type": "code",
   "execution_count": 30,
   "id": "df65cfe3-7815-4511-a852-b524d5ddddc6",
   "metadata": {},
   "outputs": [
    {
     "data": {
      "text/html": [
       "<div>\n",
       "<style scoped>\n",
       "    .dataframe tbody tr th:only-of-type {\n",
       "        vertical-align: middle;\n",
       "    }\n",
       "\n",
       "    .dataframe tbody tr th {\n",
       "        vertical-align: top;\n",
       "    }\n",
       "\n",
       "    .dataframe thead th {\n",
       "        text-align: right;\n",
       "    }\n",
       "</style>\n",
       "<table border=\"1\" class=\"dataframe\">\n",
       "  <thead>\n",
       "    <tr style=\"text-align: right;\">\n",
       "      <th></th>\n",
       "      <th>article_actual_ids</th>\n",
       "      <th>article_recomended_ids</th>\n",
       "      <th>apk</th>\n",
       "    </tr>\n",
       "    <tr>\n",
       "      <th>ip</th>\n",
       "      <th></th>\n",
       "      <th></th>\n",
       "      <th></th>\n",
       "    </tr>\n",
       "  </thead>\n",
       "  <tbody>\n",
       "    <tr>\n",
       "      <th>395075</th>\n",
       "      <td>[tcm:526-12167, tcm:526-674187, tcm:526-149043, tcm:526-16645, tcm:526-18025, tcm:526-209028, tcm:526-261006, tcm:526-273898, tcm:526-276414]</td>\n",
       "      <td>[tcm:526-261006, tcm:526-16645, tcm:526-149043, tcm:526-259315, tcm:526-40469, tcm:526-653510, tcm:526-80807, tcm:526-13782, tcm:526-187302, tcm:526-273898]</td>\n",
       "      <td>0.377778</td>\n",
       "    </tr>\n",
       "    <tr>\n",
       "      <th>1356756</th>\n",
       "      <td>[tcm:526-13782, tcm:526-16645, tcm:526-684643, tcm:526-199040, tcm:526-231792, tcm:526-80807, tcm:526-40469]</td>\n",
       "      <td>[tcm:526-261006, tcm:526-16645, tcm:526-273898, tcm:526-259315, tcm:526-40469, tcm:526-653510, tcm:526-80807, tcm:526-13782, tcm:526-224772, tcm:526-149043]</td>\n",
       "      <td>0.261224</td>\n",
       "    </tr>\n",
       "    <tr>\n",
       "      <th>1602525</th>\n",
       "      <td>[tcm:526-116442, tcm:526-16645, tcm:526-187302, tcm:526-209028, tcm:526-224772, tcm:526-249037, tcm:526-40469, tcm:526-46242]</td>\n",
       "      <td>[tcm:526-261006, tcm:526-16645, tcm:526-149043, tcm:526-259315, tcm:526-40469, tcm:526-653510, tcm:526-80807, tcm:526-13782, tcm:526-224772, tcm:526-187302]</td>\n",
       "      <td>0.204167</td>\n",
       "    </tr>\n",
       "    <tr>\n",
       "      <th>781367</th>\n",
       "      <td>[tcm:526-116442, tcm:526-16645, tcm:526-199040, tcm:526-208086, tcm:526-695181, tcm:526-259315]</td>\n",
       "      <td>[tcm:526-261006, tcm:526-16645, tcm:526-149043, tcm:526-273898, tcm:526-259315, tcm:526-40469, tcm:526-653510, tcm:526-80807, tcm:526-13782, tcm:526-224772]</td>\n",
       "      <td>0.150000</td>\n",
       "    </tr>\n",
       "    <tr>\n",
       "      <th>1398529</th>\n",
       "      <td>[tcm:526-16645, tcm:526-684643, tcm:526-199040, tcm:526-224772, tcm:526-22867, tcm:526-784445, tcm:526-80807]</td>\n",
       "      <td>[tcm:526-261006, tcm:526-273898, tcm:526-16645, tcm:526-149043, tcm:526-259315, tcm:526-40469, tcm:526-653510, tcm:526-80807, tcm:526-13782, tcm:526-224772]</td>\n",
       "      <td>0.126190</td>\n",
       "    </tr>\n",
       "    <tr>\n",
       "      <th>60747</th>\n",
       "      <td>[tcm:526-551763, tcm:526-12174, tcm:526-681575, tcm:526-149043, tcm:526-18025, tcm:526-682576, tcm:526-93195, tcm:526-259315, tcm:526-276414]</td>\n",
       "      <td>[tcm:526-261006, tcm:526-16645, tcm:526-149043, tcm:526-259315, tcm:526-40469, tcm:526-653510, tcm:526-80807, tcm:526-13782, tcm:526-224772, tcm:526-187302]</td>\n",
       "      <td>0.092593</td>\n",
       "    </tr>\n",
       "    <tr>\n",
       "      <th>503477</th>\n",
       "      <td>[tcm:526-656536, tcm:526-12180, tcm:526-674187, tcm:526-681575, tcm:526-16645, tcm:526-208086, tcm:526-209028, tcm:526-22867, tcm:526-273898, tcm:526-40469]</td>\n",
       "      <td>[tcm:526-261006, tcm:526-16645, tcm:526-149043, tcm:526-259315, tcm:526-40469, tcm:526-653510, tcm:526-80807, tcm:526-13782, tcm:526-224772, tcm:526-187302]</td>\n",
       "      <td>0.090000</td>\n",
       "    </tr>\n",
       "    <tr>\n",
       "      <th>379682</th>\n",
       "      <td>[tcm:526-12167, tcm:526-13782, tcm:526-149043, tcm:526-784445, tcm:526-244935, tcm:526-273898, tcm:526-346380]</td>\n",
       "      <td>[tcm:526-261006, tcm:526-16645, tcm:526-149043, tcm:526-259315, tcm:526-40469, tcm:526-653510, tcm:526-80807, tcm:526-13782, tcm:526-224772, tcm:526-187302]</td>\n",
       "      <td>0.083333</td>\n",
       "    </tr>\n",
       "    <tr>\n",
       "      <th>2068384</th>\n",
       "      <td>[tcm:526-13782, tcm:526-695181, tcm:526-208086, tcm:526-93195, tcm:526-259315, tcm:526-346380, tcm:526-388698, tcm:526-46242]</td>\n",
       "      <td>[tcm:526-261006, tcm:526-16645, tcm:526-149043, tcm:526-273898, tcm:526-259315, tcm:526-40469, tcm:526-653510, tcm:526-80807, tcm:526-13782, tcm:526-224772]</td>\n",
       "      <td>0.052778</td>\n",
       "    </tr>\n",
       "    <tr>\n",
       "      <th>2227897</th>\n",
       "      <td>[tcm:526-492865, tcm:526-187302, tcm:526-695181, tcm:526-231792, tcm:526-276414, tcm:526-40469, tcm:526-46242]</td>\n",
       "      <td>[tcm:526-261006, tcm:526-16645, tcm:526-259315, tcm:526-149043, tcm:526-273898, tcm:526-80807, tcm:526-40469, tcm:526-653510, tcm:526-13782, tcm:526-224772]</td>\n",
       "      <td>0.020408</td>\n",
       "    </tr>\n",
       "  </tbody>\n",
       "</table>\n",
       "</div>"
      ],
      "text/plain": [
       "                                                                                                                                                   article_actual_ids  \\\n",
       "ip                                                                                                                                                                      \n",
       "395075                  [tcm:526-12167, tcm:526-674187, tcm:526-149043, tcm:526-16645, tcm:526-18025, tcm:526-209028, tcm:526-261006, tcm:526-273898, tcm:526-276414]   \n",
       "1356756                                                  [tcm:526-13782, tcm:526-16645, tcm:526-684643, tcm:526-199040, tcm:526-231792, tcm:526-80807, tcm:526-40469]   \n",
       "1602525                                 [tcm:526-116442, tcm:526-16645, tcm:526-187302, tcm:526-209028, tcm:526-224772, tcm:526-249037, tcm:526-40469, tcm:526-46242]   \n",
       "781367                                                                [tcm:526-116442, tcm:526-16645, tcm:526-199040, tcm:526-208086, tcm:526-695181, tcm:526-259315]   \n",
       "1398529                                                 [tcm:526-16645, tcm:526-684643, tcm:526-199040, tcm:526-224772, tcm:526-22867, tcm:526-784445, tcm:526-80807]   \n",
       "60747                   [tcm:526-551763, tcm:526-12174, tcm:526-681575, tcm:526-149043, tcm:526-18025, tcm:526-682576, tcm:526-93195, tcm:526-259315, tcm:526-276414]   \n",
       "503477   [tcm:526-656536, tcm:526-12180, tcm:526-674187, tcm:526-681575, tcm:526-16645, tcm:526-208086, tcm:526-209028, tcm:526-22867, tcm:526-273898, tcm:526-40469]   \n",
       "379682                                                 [tcm:526-12167, tcm:526-13782, tcm:526-149043, tcm:526-784445, tcm:526-244935, tcm:526-273898, tcm:526-346380]   \n",
       "2068384                                 [tcm:526-13782, tcm:526-695181, tcm:526-208086, tcm:526-93195, tcm:526-259315, tcm:526-346380, tcm:526-388698, tcm:526-46242]   \n",
       "2227897                                                [tcm:526-492865, tcm:526-187302, tcm:526-695181, tcm:526-231792, tcm:526-276414, tcm:526-40469, tcm:526-46242]   \n",
       "\n",
       "                                                                                                                                               article_recomended_ids  \\\n",
       "ip                                                                                                                                                                      \n",
       "395075   [tcm:526-261006, tcm:526-16645, tcm:526-149043, tcm:526-259315, tcm:526-40469, tcm:526-653510, tcm:526-80807, tcm:526-13782, tcm:526-187302, tcm:526-273898]   \n",
       "1356756  [tcm:526-261006, tcm:526-16645, tcm:526-273898, tcm:526-259315, tcm:526-40469, tcm:526-653510, tcm:526-80807, tcm:526-13782, tcm:526-224772, tcm:526-149043]   \n",
       "1602525  [tcm:526-261006, tcm:526-16645, tcm:526-149043, tcm:526-259315, tcm:526-40469, tcm:526-653510, tcm:526-80807, tcm:526-13782, tcm:526-224772, tcm:526-187302]   \n",
       "781367   [tcm:526-261006, tcm:526-16645, tcm:526-149043, tcm:526-273898, tcm:526-259315, tcm:526-40469, tcm:526-653510, tcm:526-80807, tcm:526-13782, tcm:526-224772]   \n",
       "1398529  [tcm:526-261006, tcm:526-273898, tcm:526-16645, tcm:526-149043, tcm:526-259315, tcm:526-40469, tcm:526-653510, tcm:526-80807, tcm:526-13782, tcm:526-224772]   \n",
       "60747    [tcm:526-261006, tcm:526-16645, tcm:526-149043, tcm:526-259315, tcm:526-40469, tcm:526-653510, tcm:526-80807, tcm:526-13782, tcm:526-224772, tcm:526-187302]   \n",
       "503477   [tcm:526-261006, tcm:526-16645, tcm:526-149043, tcm:526-259315, tcm:526-40469, tcm:526-653510, tcm:526-80807, tcm:526-13782, tcm:526-224772, tcm:526-187302]   \n",
       "379682   [tcm:526-261006, tcm:526-16645, tcm:526-149043, tcm:526-259315, tcm:526-40469, tcm:526-653510, tcm:526-80807, tcm:526-13782, tcm:526-224772, tcm:526-187302]   \n",
       "2068384  [tcm:526-261006, tcm:526-16645, tcm:526-149043, tcm:526-273898, tcm:526-259315, tcm:526-40469, tcm:526-653510, tcm:526-80807, tcm:526-13782, tcm:526-224772]   \n",
       "2227897  [tcm:526-261006, tcm:526-16645, tcm:526-259315, tcm:526-149043, tcm:526-273898, tcm:526-80807, tcm:526-40469, tcm:526-653510, tcm:526-13782, tcm:526-224772]   \n",
       "\n",
       "              apk  \n",
       "ip                 \n",
       "395075   0.377778  \n",
       "1356756  0.261224  \n",
       "1602525  0.204167  \n",
       "781367   0.150000  \n",
       "1398529  0.126190  \n",
       "60747    0.092593  \n",
       "503477   0.090000  \n",
       "379682   0.083333  \n",
       "2068384  0.052778  \n",
       "2227897  0.020408  "
      ]
     },
     "execution_count": 30,
     "metadata": {},
     "output_type": "execute_result"
    }
   ],
   "source": [
    "pd.set_option('max_columns', None)\n",
    "pd.set_option('display.max_colwidth', None)\n",
    "top_k_best_score_ips[['article_actual_ids','article_recomended_ids','apk']].sort_values(by='apk',ascending = False).head(10)"
   ]
  }
 ],
 "metadata": {
  "instance_type": "ml.g4dn.xlarge",
  "kernelspec": {
   "display_name": "Python 3 (Data Science)",
   "language": "python",
   "name": "python3__SAGEMAKER_INTERNAL__arn:aws:sagemaker:us-east-1:081325390199:image/datascience-1.0"
  },
  "language_info": {
   "codemirror_mode": {
    "name": "ipython",
    "version": 3
   },
   "file_extension": ".py",
   "mimetype": "text/x-python",
   "name": "python",
   "nbconvert_exporter": "python",
   "pygments_lexer": "ipython3",
   "version": "3.7.10"
  },
  "lcc_arn": "arn:aws:sagemaker:us-east-1:647324198242:studio-lifecycle-config/dlsg-sagemaker-kernel-on-start-d120ff"
 },
 "nbformat": 4,
 "nbformat_minor": 5
}
