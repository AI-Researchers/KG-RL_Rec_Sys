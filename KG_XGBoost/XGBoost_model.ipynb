{
 "cells": [
  {
   "cell_type": "code",
   "execution_count": 21,
   "id": "b5ee70d0-1736-4142-a6f2-b47c265bd3ae",
   "metadata": {},
   "outputs": [],
   "source": [
    "import pandas as pd\n",
    "import numpy as np\n",
    "import xgboost as xgb\n",
    "import optuna \n",
    "from optuna import Trial, visualization\n",
    "from optuna.samplers import TPESampler\n",
    "from matplotlib import pyplot\n",
    "import matplotlib.pyplot as plt\n",
    "\n",
    "from prediction import LtrPrediction\n",
    "from processing import DataPreprocessing\n",
    "import ltr_utils as ut"
   ]
  },
  {
   "attachments": {},
   "cell_type": "markdown",
   "id": "30865fa3-569a-43ea-ac25-d73e9c50e93b",
   "metadata": {},
   "source": [
    "## Datasets"
   ]
  },
  {
   "cell_type": "code",
   "execution_count": 2,
   "id": "104a76d5-acd7-4fc0-b21d-d41218385615",
   "metadata": {},
   "outputs": [],
   "source": [
    "train = pd.read_csv(\"../Dataset/train.csv\")\n",
    "test = pd.read_csv(\"../Dataset/test.csv\")\n",
    "articles = pd.read_csv(\"../Dataset/articles.csv\")\n",
    "users = pd.read_csv(\"../Dataset/users.csv\")"
   ]
  },
  {
   "attachments": {},
   "cell_type": "markdown",
   "id": "d47c6d61-09bc-43fe-9da2-818612a5b177",
   "metadata": {},
   "source": [
    "## Data Preprocessing"
   ]
  },
  {
   "cell_type": "code",
   "execution_count": 22,
   "id": "20e0ec0b-e585-4c43-a85e-28b0ee752527",
   "metadata": {},
   "outputs": [],
   "source": [
    "data_dict = {\n",
    "    'train' : '../Dataset/train.csv',\n",
    "    'test' : '../Dataset/test.csv',\n",
    "    'articles' : '../Dataset/articles.csv',\n",
    "    'users' : '../Dataset/users.csv'\n",
    "}"
   ]
  },
  {
   "cell_type": "code",
   "execution_count": 23,
   "id": "c03c65c7-8e96-45a8-8448-a0f9a7aa35ef",
   "metadata": {},
   "outputs": [
    {
     "name": "stdout",
     "output_type": "stream",
     "text": [
      "(11020, 18) (25672, 18)\n"
     ]
    }
   ],
   "source": [
    "DataPrep = DataPreprocessing(data_dict)"
   ]
  },
  {
   "cell_type": "raw",
   "id": "8899a75b-03fb-4114-891f-64fd61490df5",
   "metadata": {},
   "source": [
    "'''\n",
    "KG PATHS\n",
    "        'KG_ConceptNet_100'  : 'outputs/KGs/KG_ConceptNet_100.txt',\n",
    "        'KG_dep_parsing_100' : 'outputs/KGs/KG_dep_parsing_100.txt',\n",
    "        'KG_dep_parsing_500' : 'outputs/KGs/KG_dep_parsing_500.txt'\n",
    "'''"
   ]
  },
  {
   "cell_type": "code",
   "execution_count": 25,
   "id": "32d7de59-7b3e-42c4-b83e-576c2bf900f4",
   "metadata": {},
   "outputs": [],
   "source": [
    "DataPrep.init_KG('outputs/KGs/KG_dep_parsing_100terms.txt')"
   ]
  },
  {
   "cell_type": "code",
   "execution_count": 26,
   "id": "26ad61e2-4394-4b6e-bdbf-319a3b5fb1f9",
   "metadata": {},
   "outputs": [],
   "source": [
    "DataPrep.init_SentenceTransformer('all-MiniLM-L6-v2')"
   ]
  },
  {
   "cell_type": "code",
   "execution_count": 27,
   "id": "604e91d3-85c6-4c0a-b363-3bab4d687489",
   "metadata": {},
   "outputs": [
    {
     "name": "stderr",
     "output_type": "stream",
     "text": [
      "100%|██████████| 25672/25672 [13:27<00:00, 31.78it/s]\n",
      "/home/simsim/anaconda3/envs/mysdnn/lib/python3.6/site-packages/numba/np/ufunc/parallel.py:365: NumbaWarning: The TBB threading layer requires TBB version 2019.5 or later i.e., TBB_INTERFACE_VERSION >= 11005. Found TBB_INTERFACE_VERSION = 9002. The TBB threading layer is disabled.\n",
      "  warnings.warn(problem)\n",
      "100%|██████████| 25672/25672 [05:45<00:00, 74.31it/s]\n",
      "100%|██████████| 11020/11020 [05:45<00:00, 31.86it/s]\n",
      "100%|██████████| 11020/11020 [02:27<00:00, 74.78it/s]\n"
     ]
    }
   ],
   "source": [
    "train_data_df, test_data_df = DataPrep.fit_data_pipeline()"
   ]
  },
  {
   "cell_type": "raw",
   "id": "88001595-1f76-400c-b993-d5b95966327e",
   "metadata": {},
   "source": [
    "'''\n",
    "FEATURE SELECTION\n",
    "            ['art'],\n",
    "            ['art','usr'],\n",
    "            ['art','st'],\n",
    "            ['art','st','usr'],\n",
    "            ['art','kg'],\n",
    "            ['art','usr','kg']\n",
    "            ['art','usr','st','kg']\n",
    "'''"
   ]
  },
  {
   "cell_type": "code",
   "execution_count": 28,
   "id": "de7771d2-1cb1-44e9-aa0d-917493d0e5a4",
   "metadata": {},
   "outputs": [
    {
     "name": "stdout",
     "output_type": "stream",
     "text": [
      "87\n",
      "(25672, 87) (25672, 1) (11020, 87) (11020, 1)\n"
     ]
    }
   ],
   "source": [
    "processed_data_dict = DataPrep.get_train_test_split(['art','usr','kg'])"
   ]
  },
  {
   "cell_type": "code",
   "execution_count": 29,
   "id": "6425c81d",
   "metadata": {},
   "outputs": [],
   "source": [
    "X_train, y_train, groups_train, qid_train, X_test, y_test, qid_test, groups_test = processed_data_dict['train_test']\n",
    "test_data = processed_data_dict['test_data']"
   ]
  },
  {
   "attachments": {},
   "cell_type": "markdown",
   "id": "baf7bd8c-426c-4f21-a777-33bcc8155680",
   "metadata": {},
   "source": [
    "## Model Training"
   ]
  },
  {
   "cell_type": "code",
   "execution_count": 30,
   "id": "0143a9a0-fd07-412a-bf34-3e85f9800a3e",
   "metadata": {},
   "outputs": [
    {
     "name": "stdout",
     "output_type": "stream",
     "text": [
      "default Train :   0.38357647\n",
      "default Test  :   0.17101716000000003\n"
     ]
    }
   ],
   "source": [
    "xgb_params = {  'booster':\"gbtree\", \n",
    "                'objective':\"rank:pairwise\",\n",
    "                'tree_method':\"gpu_hist\", \n",
    "                'sampling_method':\"gradient_based\",\n",
    "                'eval_metric':['map@10'],\n",
    "             }\n",
    "\n",
    "model = xgb.XGBRanker(**xgb_params)\n",
    "\n",
    "\n",
    "model.fit(X_train, y_train, group=groups_train, eval_set=[(X_train, y_train),(X_test, y_test)], eval_group=[groups_train,groups_test],  verbose=False)\n",
    "\n",
    "result = model.evals_result()\n",
    "train_score = np.mean(result['validation_0']['map@10'])\n",
    "test_score = np.mean(result['validation_1']['map@10'])\n",
    "print('default Train :  ', train_score)\n",
    "print('default Test  :  ', test_score)"
   ]
  },
  {
   "attachments": {},
   "cell_type": "markdown",
   "id": "2a8491be-ef51-4ab7-b7e1-fa2a2e011bb4",
   "metadata": {},
   "source": [
    "## Hyperparameter Tuning"
   ]
  },
  {
   "cell_type": "code",
   "execution_count": 31,
   "id": "246b4554-f898-481e-b922-ec6db0e1a746",
   "metadata": {},
   "outputs": [],
   "source": [
    "def objective(trial):\n",
    "\n",
    "        metric = \"map@10\"\n",
    "\n",
    "        tuning_params = {\n",
    "                    \"max_depth\": trial.suggest_int(\"max_depth\", 2, 8, step=1),\n",
    "                    \"subsample\": trial.suggest_float(\"subsample\", 0.5, 0.8, step=0.05),\n",
    "                    \"colsample_bytree\": trial.suggest_float(\"colsample_bytree\", 0.5, 0.8, step=0.05),\n",
    "                    \"reg_lambda\": trial.suggest_float(\"reg_lambda\", 0.01, 10.0, step=0.01),\n",
    "                    \"alpha\": trial.suggest_float(\"alpha\", 1e-8, 1.0),\n",
    "                    \"min_child_weight\": trial.suggest_float(\"min_child_weight\", 0.01, 10.0, step=0.01),\n",
    "                    \"gamma\": trial.suggest_float(\"gamma\", 0.01, 10.0, step=0.01),\n",
    "                    \"max_delta_step\":  trial.suggest_float(\"max_delta_step\", 0.01, 10.0, step=0.01),\n",
    "                    \"eta\": trial.suggest_float(\"eta\", 0.001, 10.0, step=0.001)\n",
    "\n",
    "                }\n",
    "        \n",
    "        pruning_callback = optuna.integration.XGBoostPruningCallback(trial, \"validation_0-map@10\")\n",
    "\n",
    "        model = xgb.XGBRanker(booster=\"gbtree\", objective=\"rank:pairwise\",\n",
    "                            tree_method=\"gpu_hist\", sampling_method=\"gradient_based\",\n",
    "                            eval_metric=metric,\n",
    "                            verbosity=1,\n",
    "                            n_estimators=5000,\n",
    "                            **tuning_params)\n",
    "\n",
    "        model.fit(X_train, y_train, group=groups_train, eval_set=[(X_test, y_test)],early_stopping_rounds = 100,  eval_group=[groups_test], callbacks=[pruning_callback],  verbose=False)\n",
    "\n",
    "        result = model.evals_result()\n",
    "        opt_score1 = np.mean(result['validation_0'][metric])\n",
    "\n",
    "        if trial.should_prune():\n",
    "            raise optuna.exceptions.TrialPruned()\n",
    "\n",
    "        return opt_score1\n",
    "\n",
    "# optuna.logging.WARNING\n",
    "optuna.logging.set_verbosity(optuna.logging.WARNING)\n",
    "\n",
    "pruner = optuna.pruners.MedianPruner(n_warmup_steps=20)\n",
    "study = optuna.create_study(pruner=pruner, direction='maximize')\n",
    "study.optimize(objective, n_trials=500)"
   ]
  },
  {
   "cell_type": "code",
   "execution_count": 32,
   "id": "cf65c64a-7c4a-4764-b040-004355e85005",
   "metadata": {},
   "outputs": [
    {
     "name": "stdout",
     "output_type": "stream",
     "text": [
      "Optimized MAP: 0.2925\n",
      "Best params:\n",
      "\tmax_depth: 5\n",
      "\tsubsample: 0.65\n",
      "\tcolsample_bytree: 0.7\n",
      "\treg_lambda: 4.9799999999999995\n",
      "\talpha: 0.8810721050769598\n",
      "\tmin_child_weight: 0.8200000000000001\n",
      "\tgamma: 6.63\n",
      "\tmax_delta_step: 7.14\n",
      "\teta: 0.001\n"
     ]
    }
   ],
   "source": [
    "print(f\"Optimized MAP: {study.best_value:.4f}\")\n",
    "print(\"Best params:\")\n",
    "for key, value in study.best_params.items():\n",
    "    print(f\"\\t{key}: {value}\")"
   ]
  },
  {
   "cell_type": "code",
   "execution_count": 33,
   "id": "acd83b4b-21cc-4228-b657-24c272133855",
   "metadata": {},
   "outputs": [
    {
     "name": "stdout",
     "output_type": "stream",
     "text": [
      "Optimized Train :   0.272352\n",
      "Optimized Test  :   0.317065\n"
     ]
    }
   ],
   "source": [
    "metric = \"map@10\"\n",
    "\n",
    "model_bst = xgb.XGBRanker(booster=\"gbtree\", objective=\"rank:pairwise\",\n",
    "                        tree_method=\"gpu_hist\", sampling_method=\"gradient_based\",\n",
    "                        eval_metric=metric,\n",
    "                        n_estimators=5000,\n",
    "                        early_stopping_rounds = 50, \n",
    "                        verbosity=0,\n",
    "                        **study.best_params)\n",
    "\n",
    "model_bst.fit(X_train, y_train, group=groups_train, eval_set=[(X_train, y_train),(X_test, y_test)], eval_group=[groups_train,groups_test],  verbose=False)\n",
    "result = model_bst.evals_result()\n",
    "train_score = np.max(result['validation_0']['map@10'])\n",
    "test_score = np.max(result['validation_1']['map@10'])\n",
    "print('Optimized Train :  ', train_score)\n",
    "print('Optimized Test  :  ', test_score)"
   ]
  },
  {
   "cell_type": "code",
   "execution_count": 34,
   "id": "2542a9d8-70b5-4032-8a4c-91ae26cfcd31",
   "metadata": {},
   "outputs": [
    {
     "data": {
      "image/png": "[encoded data removed]",
      "text/plain": [
       "<Figure size 720x360 with 1 Axes>"
      ]
     },
     "metadata": {
      "needs_background": "light"
     },
     "output_type": "display_data"
    }
   ],
   "source": [
    "# plot learning curves\n",
    "pyplot.plot(result['validation_0']['map@10'], label='train')\n",
    "pyplot.plot(result['validation_1']['map@10'], label='test')\n",
    "# show the legend\n",
    "pyplot.legend()\n",
    "pyplot.rcParams[\"figure.figsize\"] = (10,5)\n",
    "# show the plot\n",
    "pyplot.show()"
   ]
  },
  {
   "cell_type": "code",
   "execution_count": 41,
   "id": "200a3029",
   "metadata": {},
   "outputs": [],
   "source": [
    "path = 'outputs/kg_DP/'\n",
    "ut.model_save(model_bst,path,DataPrep)"
   ]
  },
  {
   "cell_type": "code",
   "execution_count": null,
   "id": "ebf777e5",
   "metadata": {},
   "outputs": [
    {
     "data": {
      "image/png": "[encoded data removed]",
      "text/plain": [
       "<Figure size 720x360 with 1 Axes>"
      ]
     },
     "metadata": {
      "needs_background": "light"
     },
     "output_type": "display_data"
    }
   ],
   "source": [
    "xgb.plot_importance(model_bst)\n",
    "plt.show()"
   ]
  },
  {
   "attachments": {},
   "cell_type": "markdown",
   "id": "d7b76587-40e9-4f2c-941b-e2fa5f555360",
   "metadata": {},
   "source": [
    "## Model Evaluation"
   ]
  },
  {
   "cell_type": "code",
   "execution_count": null,
   "id": "a2bcb90f",
   "metadata": {},
   "outputs": [],
   "source": [
    "# path = 'outputs/kg_CN/'\n",
    "\n",
    "# model_bst, DataPrep = ut.load_model(path)\n",
    "\n",
    "# processed_data_dict = DataPrep.get_train_test_split(['art','usr','kg'])\n",
    "# X_train, y_train, groups_train, qid_train, X_test, y_test, qid_test, groups_test = processed_data_dict['train_test']\n",
    "# test_data = processed_data_dict['test_data']"
   ]
  },
  {
   "cell_type": "code",
   "execution_count": null,
   "id": "70cdf7a1-32f4-45d0-9253-7f686825fa90",
   "metadata": {},
   "outputs": [],
   "source": [
    "xgb_Prediction = LtrPrediction(model_bst, test_data)"
   ]
  },
  {
   "cell_type": "code",
   "execution_count": null,
   "id": "7d0b4d31-3f32-402e-b2eb-08971e1471e2",
   "metadata": {},
   "outputs": [
    {
     "name": "stdout",
     "output_type": "stream",
     "text": [
      "NDCG=0.404 | Recall=0.631 | Precision=0.930 \n"
     ]
    },
    {
     "data": {
      "text/plain": [
       "{'MAP@10': 0.2460986061091103,\n",
       " 'results@10': {'NDCG': 0.40354546337225977,\n",
       "  'Recall': 0.6312739910779127,\n",
       "  'Precision': 0.20413943355119826}}"
      ]
     },
     "execution_count": 18,
     "metadata": {},
     "output_type": "execute_result"
    }
   ],
   "source": [
    "results = xgb_Prediction.evaluate()\n",
    "results"
   ]
  },
  {
   "cell_type": "code",
   "execution_count": null,
   "id": "4a604bef-955d-47a8-9326-82cc52938c97",
   "metadata": {},
   "outputs": [],
   "source": [
    "top_k_best_score_ips = xgb_Prediction.get_recomendation()"
   ]
  },
  {
   "cell_type": "code",
   "execution_count": null,
   "id": "08600799-281d-4b56-a9cf-5d1e04e96e6f",
   "metadata": {},
   "outputs": [],
   "source": [
    "tcm_le = DataPrep.return_inverse_transform()\n",
    "top_k_best_score_ips['article_actual_ids'] = top_k_best_score_ips.apply(lambda row: tcm_le.inverse_transform(row['article_actual']) ,axis=1)\n",
    "top_k_best_score_ips['article_recomended_ids'] = top_k_best_score_ips.apply(lambda row: tcm_le.inverse_transform(row['article_prediction']) ,axis=1)"
   ]
  },
  {
   "cell_type": "code",
   "execution_count": null,
   "id": "df65cfe3-7815-4511-a852-b524d5ddddc6",
   "metadata": {},
   "outputs": [
    {
     "data": {
      "text/html": [
       "<div>\n",
       "<style scoped>\n",
       "    .dataframe tbody tr th:only-of-type {\n",
       "        vertical-align: middle;\n",
       "    }\n",
       "\n",
       "    .dataframe tbody tr th {\n",
       "        vertical-align: top;\n",
       "    }\n",
       "\n",
       "    .dataframe thead th {\n",
       "        text-align: right;\n",
       "    }\n",
       "</style>\n",
       "<table border=\"1\" class=\"dataframe\">\n",
       "  <thead>\n",
       "    <tr style=\"text-align: right;\">\n",
       "      <th></th>\n",
       "      <th>article_actual_ids</th>\n",
       "      <th>article_recomended_ids</th>\n",
       "      <th>apk</th>\n",
       "    </tr>\n",
       "    <tr>\n",
       "      <th>qid</th>\n",
       "      <th></th>\n",
       "      <th></th>\n",
       "      <th></th>\n",
       "    </tr>\n",
       "  </thead>\n",
       "  <tbody>\n",
       "    <tr>\n",
       "      <th>94590770</th>\n",
       "      <td>[tcm:526-22867]</td>\n",
       "      <td>[tcm:526-22867, tcm:526-681575, tcm:526-12174, tcm:526-16645, tcm:526-244935, tcm:526-149043, tcm:526-18025, tcm:526-704480, tcm:526-239640, tcm:526-231792]</td>\n",
       "      <td>1.000000</td>\n",
       "    </tr>\n",
       "    <tr>\n",
       "      <th>12488474</th>\n",
       "      <td>[tcm:526-12174, tcm:526-22867]</td>\n",
       "      <td>[tcm:526-22867, tcm:526-12174, tcm:526-149043, tcm:526-273898, tcm:526-12167, tcm:526-116442, tcm:526-670542, tcm:526-653510, tcm:526-208086, tcm:526-695181]</td>\n",
       "      <td>1.000000</td>\n",
       "    </tr>\n",
       "    <tr>\n",
       "      <th>29816351</th>\n",
       "      <td>[tcm:526-22867, tcm:526-12174]</td>\n",
       "      <td>[tcm:526-22867, tcm:526-12174, tcm:526-149043, tcm:526-782343, tcm:526-93195, tcm:526-191289, tcm:526-10838, tcm:526-249037, tcm:526-239640, tcm:526-153236]</td>\n",
       "      <td>1.000000</td>\n",
       "    </tr>\n",
       "    <tr>\n",
       "      <th>93914554</th>\n",
       "      <td>[tcm:526-12174]</td>\n",
       "      <td>[tcm:526-12174, tcm:526-273898, tcm:526-244935, tcm:526-70899, tcm:526-782343, tcm:526-239640, tcm:526-116442, tcm:526-653510, tcm:526-208086, tcm:526-237984]</td>\n",
       "      <td>1.000000</td>\n",
       "    </tr>\n",
       "    <tr>\n",
       "      <th>75532794</th>\n",
       "      <td>[tcm:526-12167, tcm:526-12174, tcm:526-93195]</td>\n",
       "      <td>[tcm:526-12174, tcm:526-12167, tcm:526-244935, tcm:526-93195, tcm:526-782343, tcm:526-16645, tcm:526-70899, tcm:526-418532, tcm:526-695181, tcm:526-13782]</td>\n",
       "      <td>0.916667</td>\n",
       "    </tr>\n",
       "    <tr>\n",
       "      <th>31100103</th>\n",
       "      <td>[tcm:526-782343, tcm:526-22867]</td>\n",
       "      <td>[tcm:526-22867, tcm:526-681575, tcm:526-782343, tcm:526-12174, tcm:526-80807, tcm:526-16645, tcm:526-149043, tcm:526-418532, tcm:526-12167, tcm:526-695181]</td>\n",
       "      <td>0.833333</td>\n",
       "    </tr>\n",
       "    <tr>\n",
       "      <th>91243393</th>\n",
       "      <td>[tcm:526-10787, tcm:526-12167, tcm:526-12174, tcm:526-681575, tcm:526-688510]</td>\n",
       "      <td>[tcm:526-12174, tcm:526-681575, tcm:526-149043, tcm:526-688510, tcm:526-244935, tcm:526-12167, tcm:526-10787, tcm:526-116442, tcm:526-653510, tcm:526-208086]</td>\n",
       "      <td>0.826190</td>\n",
       "    </tr>\n",
       "    <tr>\n",
       "      <th>21415256</th>\n",
       "      <td>[tcm:526-273898, tcm:526-12174, tcm:526-80807]</td>\n",
       "      <td>[tcm:526-12174, tcm:526-782343, tcm:526-273898, tcm:526-80807, tcm:526-16645, tcm:526-239640, tcm:526-153236, tcm:526-116442, tcm:526-237984, tcm:526-164352]</td>\n",
       "      <td>0.805556</td>\n",
       "    </tr>\n",
       "    <tr>\n",
       "      <th>47390898</th>\n",
       "      <td>[tcm:526-273898, tcm:526-12174, tcm:526-418532, tcm:526-492865, tcm:526-681575, tcm:526-22867]</td>\n",
       "      <td>[tcm:526-22867, tcm:526-681575, tcm:526-273898, tcm:526-12174, tcm:526-16645, tcm:526-782343, tcm:526-191289, tcm:526-10838, tcm:526-418532, tcm:526-13782]</td>\n",
       "      <td>0.759259</td>\n",
       "    </tr>\n",
       "    <tr>\n",
       "      <th>60417315</th>\n",
       "      <td>[tcm:526-273898, tcm:526-681575]</td>\n",
       "      <td>[tcm:526-681575, tcm:526-12174, tcm:526-782343, tcm:526-273898, tcm:526-149043, tcm:526-418532, tcm:526-208086, tcm:526-13782, tcm:526-199040, tcm:526-153236]</td>\n",
       "      <td>0.750000</td>\n",
       "    </tr>\n",
       "  </tbody>\n",
       "</table>\n",
       "</div>"
      ],
      "text/plain": [
       "                                                                                      article_actual_ids  \\\n",
       "qid                                                                                                        \n",
       "94590770                                                                                 [tcm:526-22867]   \n",
       "12488474                                                                  [tcm:526-12174, tcm:526-22867]   \n",
       "29816351                                                                  [tcm:526-22867, tcm:526-12174]   \n",
       "93914554                                                                                 [tcm:526-12174]   \n",
       "75532794                                                   [tcm:526-12167, tcm:526-12174, tcm:526-93195]   \n",
       "31100103                                                                 [tcm:526-782343, tcm:526-22867]   \n",
       "91243393                   [tcm:526-10787, tcm:526-12167, tcm:526-12174, tcm:526-681575, tcm:526-688510]   \n",
       "21415256                                                  [tcm:526-273898, tcm:526-12174, tcm:526-80807]   \n",
       "47390898  [tcm:526-273898, tcm:526-12174, tcm:526-418532, tcm:526-492865, tcm:526-681575, tcm:526-22867]   \n",
       "60417315                                                                [tcm:526-273898, tcm:526-681575]   \n",
       "\n",
       "                                                                                                                                                  article_recomended_ids  \\\n",
       "qid                                                                                                                                                                        \n",
       "94590770    [tcm:526-22867, tcm:526-681575, tcm:526-12174, tcm:526-16645, tcm:526-244935, tcm:526-149043, tcm:526-18025, tcm:526-704480, tcm:526-239640, tcm:526-231792]   \n",
       "12488474   [tcm:526-22867, tcm:526-12174, tcm:526-149043, tcm:526-273898, tcm:526-12167, tcm:526-116442, tcm:526-670542, tcm:526-653510, tcm:526-208086, tcm:526-695181]   \n",
       "29816351    [tcm:526-22867, tcm:526-12174, tcm:526-149043, tcm:526-782343, tcm:526-93195, tcm:526-191289, tcm:526-10838, tcm:526-249037, tcm:526-239640, tcm:526-153236]   \n",
       "93914554  [tcm:526-12174, tcm:526-273898, tcm:526-244935, tcm:526-70899, tcm:526-782343, tcm:526-239640, tcm:526-116442, tcm:526-653510, tcm:526-208086, tcm:526-237984]   \n",
       "75532794      [tcm:526-12174, tcm:526-12167, tcm:526-244935, tcm:526-93195, tcm:526-782343, tcm:526-16645, tcm:526-70899, tcm:526-418532, tcm:526-695181, tcm:526-13782]   \n",
       "31100103     [tcm:526-22867, tcm:526-681575, tcm:526-782343, tcm:526-12174, tcm:526-80807, tcm:526-16645, tcm:526-149043, tcm:526-418532, tcm:526-12167, tcm:526-695181]   \n",
       "91243393   [tcm:526-12174, tcm:526-681575, tcm:526-149043, tcm:526-688510, tcm:526-244935, tcm:526-12167, tcm:526-10787, tcm:526-116442, tcm:526-653510, tcm:526-208086]   \n",
       "21415256   [tcm:526-12174, tcm:526-782343, tcm:526-273898, tcm:526-80807, tcm:526-16645, tcm:526-239640, tcm:526-153236, tcm:526-116442, tcm:526-237984, tcm:526-164352]   \n",
       "47390898     [tcm:526-22867, tcm:526-681575, tcm:526-273898, tcm:526-12174, tcm:526-16645, tcm:526-782343, tcm:526-191289, tcm:526-10838, tcm:526-418532, tcm:526-13782]   \n",
       "60417315  [tcm:526-681575, tcm:526-12174, tcm:526-782343, tcm:526-273898, tcm:526-149043, tcm:526-418532, tcm:526-208086, tcm:526-13782, tcm:526-199040, tcm:526-153236]   \n",
       "\n",
       "               apk  \n",
       "qid                 \n",
       "94590770  1.000000  \n",
       "12488474  1.000000  \n",
       "29816351  1.000000  \n",
       "93914554  1.000000  \n",
       "75532794  0.916667  \n",
       "31100103  0.833333  \n",
       "91243393  0.826190  \n",
       "21415256  0.805556  \n",
       "47390898  0.759259  \n",
       "60417315  0.750000  "
      ]
     },
     "execution_count": 12,
     "metadata": {},
     "output_type": "execute_result"
    }
   ],
   "source": [
    "pd.set_option('max_columns', None)\n",
    "pd.set_option('display.max_colwidth', None)\n",
    "top_k_best_score_ips[['article_actual_ids','article_recomended_ids','apk']].sort_values(by='apk',ascending = False).head(10)"
   ]
  },
  {
   "cell_type": "code",
   "execution_count": null,
   "id": "843d1f2b",
   "metadata": {},
   "outputs": [],
   "source": []
  }
 ],
 "metadata": {
  "instance_type": "ml.g4dn.xlarge",
  "kernelspec": {
   "display_name": "tf_gpu",
   "language": "python",
   "name": "python3"
  },
  "language_info": {
   "codemirror_mode": {
    "name": "ipython",
    "version": 3
   },
   "file_extension": ".py",
   "mimetype": "text/x-python",
   "name": "python",
   "nbconvert_exporter": "python",
   "pygments_lexer": "ipython3",
   "version": "3.6.13"
  },
  "lcc_arn": "arn:aws:sagemaker:us-east-1:647324198242:studio-lifecycle-config/dlsg-sagemaker-kernel-on-start-d120ff"
 },
 "nbformat": 4,
 "nbformat_minor": 5
}
