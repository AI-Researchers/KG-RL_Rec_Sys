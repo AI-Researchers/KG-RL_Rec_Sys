{
 "cells": [
  {
   "cell_type": "code",
   "execution_count": 1,
   "id": "b5ee70d0-1736-4142-a6f2-b47c265bd3ae",
   "metadata": {},
   "outputs": [
    {
     "name": "stderr",
     "output_type": "stream",
     "text": [
      "There was a problem when trying to write in your cache folder (/home/devpil/.cache/huggingface/hub). You should set the environment variable TRANSFORMERS_CACHE to a writable directory.\n"
     ]
    }
   ],
   "source": [
    "import pandas as pd\n",
    "import numpy as np\n",
    "import xgboost as xgb\n",
    "import optuna \n",
    "from optuna import Trial, visualization\n",
    "from optuna.samplers import TPESampler\n",
    "from matplotlib import pyplot\n",
    "import matplotlib.pyplot as plt\n",
    "\n",
    "from prediction import LtrPrediction\n",
    "from processing_transE import DataPreprocessing\n",
    "import ltr_utils as ut"
   ]
  },
  {
   "attachments": {},
   "cell_type": "markdown",
   "id": "30865fa3-569a-43ea-ac25-d73e9c50e93b",
   "metadata": {},
   "source": [
    "## Datasets"
   ]
  },
  {
   "cell_type": "code",
   "execution_count": 2,
   "id": "104a76d5-acd7-4fc0-b21d-d41218385615",
   "metadata": {},
   "outputs": [],
   "source": [
    "train = pd.read_csv(\"../Dataset/train.csv\")\n",
    "test = pd.read_csv(\"../Dataset/test.csv\")\n",
    "articles = pd.read_csv(\"../Dataset/articles.csv\")\n",
    "users = pd.read_csv(\"../Dataset/users.csv\")"
   ]
  },
  {
   "attachments": {},
   "cell_type": "markdown",
   "id": "d47c6d61-09bc-43fe-9da2-818612a5b177",
   "metadata": {},
   "source": [
    "## Data Preprocessing"
   ]
  },
  {
   "cell_type": "code",
   "execution_count": 3,
   "id": "20e0ec0b-e585-4c43-a85e-28b0ee752527",
   "metadata": {},
   "outputs": [],
   "source": [
    "data_dict = {\n",
    "    'train' : '../Dataset/train.csv',\n",
    "    'test' : '../Dataset/test.csv',\n",
    "    'articles' : '../Dataset/articles.csv',\n",
    "    'users' : '../Dataset/users.csv'\n",
    "}"
   ]
  },
  {
   "cell_type": "code",
   "execution_count": 4,
   "id": "c03c65c7-8e96-45a8-8448-a0f9a7aa35ef",
   "metadata": {},
   "outputs": [
    {
     "name": "stdout",
     "output_type": "stream",
     "text": [
      "(11020, 19) (25672, 19)\n"
     ]
    }
   ],
   "source": [
    "DataPrep = DataPreprocessing(data_dict)"
   ]
  },
  {
   "cell_type": "raw",
   "id": "8899a75b-03fb-4114-891f-64fd61490df5",
   "metadata": {},
   "source": [
    "'''\n",
    "KG PATHS\n",
    "        'KG_structured_transE': 'TransE/transE_combined_emb.txt'\n",
    "'''"
   ]
  },
  {
   "cell_type": "code",
   "execution_count": 5,
   "id": "32d7de59-7b3e-42c4-b83e-576c2bf900f4",
   "metadata": {},
   "outputs": [],
   "source": [
    "DataPrep.init_KG('TransE/transE_combined_emb.txt')"
   ]
  },
  {
   "cell_type": "code",
   "execution_count": 6,
   "id": "26ad61e2-4394-4b6e-bdbf-319a3b5fb1f9",
   "metadata": {},
   "outputs": [],
   "source": [
    "DataPrep.init_SentenceTransformer('all-MiniLM-L6-v2')"
   ]
  },
  {
   "cell_type": "code",
   "execution_count": 7,
   "id": "604e91d3-85c6-4c0a-b363-3bab4d687489",
   "metadata": {},
   "outputs": [
    {
     "name": "stderr",
     "output_type": "stream",
     "text": [
      "100%|██████████| 25672/25672 [14:22<00:00, 29.78it/s]\n",
      "100%|██████████| 25672/25672 [24:16<00:00, 17.62it/s]\n",
      "/home/devpil/anaconda3/envs/fid_xgboost/lib/python3.7/site-packages/sklearn/utils/deprecation.py:87: FutureWarning: Function get_feature_names is deprecated; get_feature_names is deprecated in 1.0 and will be removed in 1.2. Please use get_feature_names_out instead.\n",
      "  warnings.warn(msg, category=FutureWarning)\n",
      "100%|██████████| 11020/11020 [06:03<00:00, 30.28it/s]\n",
      "100%|██████████| 11020/11020 [10:28<00:00, 17.54it/s]\n"
     ]
    }
   ],
   "source": [
    "train_data_df, test_data_df = DataPrep.fit_data_pipeline()"
   ]
  },
  {
   "cell_type": "raw",
   "id": "88001595-1f76-400c-b993-d5b95966327e",
   "metadata": {},
   "source": [
    "'''\n",
    "FEATURE SELECTION\n",
    "            ['art'],\n",
    "            ['art','usr'],\n",
    "            ['art','st'],\n",
    "            ['art','st','usr'],\n",
    "            ['art','kg'],\n",
    "            ['art','usr','kg']\n",
    "            ['art','usr','st','kg']\n",
    "'''"
   ]
  },
  {
   "cell_type": "code",
   "execution_count": 8,
   "id": "de7771d2-1cb1-44e9-aa0d-917493d0e5a4",
   "metadata": {},
   "outputs": [
    {
     "name": "stdout",
     "output_type": "stream",
     "text": [
      "87\n",
      "(25672, 87) (25672, 1) (11020, 87) (11020, 1)\n"
     ]
    }
   ],
   "source": [
    "processed_data_dict = DataPrep.get_train_test_split(['art','usr','kg'])"
   ]
  },
  {
   "cell_type": "code",
   "execution_count": 9,
   "id": "6425c81d",
   "metadata": {},
   "outputs": [],
   "source": [
    "X_train, y_train, groups_train, qid_train, X_test, y_test, qid_test, groups_test = processed_data_dict['train_test']\n",
    "test_data = processed_data_dict['test_data']"
   ]
  },
  {
   "attachments": {},
   "cell_type": "markdown",
   "id": "baf7bd8c-426c-4f21-a777-33bcc8155680",
   "metadata": {},
   "source": [
    "## Model Training"
   ]
  },
  {
   "cell_type": "code",
   "execution_count": 10,
   "id": "0143a9a0-fd07-412a-bf34-3e85f9800a3e",
   "metadata": {},
   "outputs": [
    {
     "name": "stdout",
     "output_type": "stream",
     "text": [
      "default Train :   0.4032297909795703\n",
      "default Test  :   0.11733151978453966\n"
     ]
    }
   ],
   "source": [
    "xgb_params = {  'booster':\"gbtree\", \n",
    "                'objective':\"rank:pairwise\",\n",
    "                'tree_method':\"gpu_hist\", \n",
    "                'sampling_method':\"gradient_based\",\n",
    "                'eval_metric':['map@10'],\n",
    "             }\n",
    "\n",
    "model = xgb.XGBRanker(**xgb_params)\n",
    "\n",
    "\n",
    "model.fit(X_train, y_train, group=groups_train, eval_set=[(X_train, y_train),(X_test, y_test)], eval_group=[groups_train,groups_test],  verbose=False)\n",
    "\n",
    "result = model.evals_result()\n",
    "train_score = np.mean(result['validation_0']['map@10'])\n",
    "test_score = np.mean(result['validation_1']['map@10'])\n",
    "print('default Train :  ', train_score)\n",
    "print('default Test  :  ', test_score)"
   ]
  },
  {
   "attachments": {},
   "cell_type": "markdown",
   "id": "2a8491be-ef51-4ab7-b7e1-fa2a2e011bb4",
   "metadata": {},
   "source": [
    "## Hyperparameter Tuning"
   ]
  },
  {
   "cell_type": "code",
   "execution_count": 11,
   "id": "246b4554-f898-481e-b922-ec6db0e1a746",
   "metadata": {},
   "outputs": [
    {
     "name": "stderr",
     "output_type": "stream",
     "text": [
      "/home/devpil/anaconda3/envs/fid_xgboost/lib/python3.7/site-packages/xgboost/sklearn.py:797: UserWarning: `early_stopping_rounds` in `fit` method is deprecated for better compatibility with scikit-learn, use `early_stopping_rounds` in constructor or`set_params` instead.\n",
      "  UserWarning,\n",
      "/home/devpil/anaconda3/envs/fid_xgboost/lib/python3.7/site-packages/xgboost/sklearn.py:797: UserWarning: `callbacks` in `fit` method is deprecated for better compatibility with scikit-learn, use `callbacks` in constructor or`set_params` instead.\n",
      "  UserWarning,\n"
     ]
    }
   ],
   "source": [
    "def objective(trial):\n",
    "\n",
    "        metric = \"map@10\"\n",
    "\n",
    "        tuning_params = {\n",
    "                    \"max_depth\": trial.suggest_int(\"max_depth\", 2, 8, step=1),\n",
    "                    \"subsample\": trial.suggest_float(\"subsample\", 0.5, 0.8, step=0.05),\n",
    "                    \"colsample_bytree\": trial.suggest_float(\"colsample_bytree\", 0.5, 0.8, step=0.05),\n",
    "                    \"reg_lambda\": trial.suggest_float(\"reg_lambda\", 0.01, 10.0, step=0.01),\n",
    "                    \"alpha\": trial.suggest_float(\"alpha\", 1e-8, 1.0),\n",
    "                    \"min_child_weight\": trial.suggest_float(\"min_child_weight\", 0.01, 10.0, step=0.01),\n",
    "                    \"gamma\": trial.suggest_float(\"gamma\", 0.01, 10.0, step=0.01),\n",
    "                    \"max_delta_step\":  trial.suggest_float(\"max_delta_step\", 0.01, 10.0, step=0.01),\n",
    "                    \"eta\": trial.suggest_float(\"eta\", 0.001, 10.0, step=0.001)\n",
    "\n",
    "                }\n",
    "        \n",
    "        pruning_callback = optuna.integration.XGBoostPruningCallback(trial, \"validation_0-map@10\")\n",
    "\n",
    "        model = xgb.XGBRanker(booster=\"gbtree\", objective=\"rank:pairwise\",\n",
    "                            tree_method=\"gpu_hist\", sampling_method=\"gradient_based\",\n",
    "                            eval_metric=metric,\n",
    "                            verbosity=1,\n",
    "                            n_estimators=5000,\n",
    "                            **tuning_params)\n",
    "\n",
    "        model.fit(X_train, y_train, group=groups_train, eval_set=[(X_test, y_test)],early_stopping_rounds = 100,  eval_group=[groups_test], callbacks=[pruning_callback],  verbose=False)\n",
    "\n",
    "        result = model.evals_result()\n",
    "        opt_score1 = np.mean(result['validation_0'][metric])\n",
    "\n",
    "        if trial.should_prune():\n",
    "            raise optuna.exceptions.TrialPruned()\n",
    "\n",
    "        return opt_score1\n",
    "\n",
    "# optuna.logging.WARNING\n",
    "optuna.logging.set_verbosity(optuna.logging.WARNING)\n",
    "\n",
    "pruner = optuna.pruners.MedianPruner(n_warmup_steps=20)\n",
    "study = optuna.create_study(pruner=pruner, direction='maximize')\n",
    "study.optimize(objective, n_trials=500)"
   ]
  },
  {
   "cell_type": "code",
   "execution_count": 12,
   "id": "cf65c64a-7c4a-4764-b040-004355e85005",
   "metadata": {},
   "outputs": [
    {
     "name": "stdout",
     "output_type": "stream",
     "text": [
      "Optimized MAP: 0.3236\n",
      "Best params:\n",
      "\tmax_depth: 2\n",
      "\tsubsample: 0.65\n",
      "\tcolsample_bytree: 0.65\n",
      "\treg_lambda: 5.86\n",
      "\talpha: 0.44165865059740406\n",
      "\tmin_child_weight: 1.45\n",
      "\tgamma: 10.0\n",
      "\tmax_delta_step: 9.19\n",
      "\teta: 0.178\n"
     ]
    }
   ],
   "source": [
    "print(f\"Optimized MAP: {study.best_value:.4f}\")\n",
    "print(\"Best params:\")\n",
    "for key, value in study.best_params.items():\n",
    "    print(f\"\\t{key}: {value}\")"
   ]
  },
  {
   "cell_type": "code",
   "execution_count": 13,
   "id": "acd83b4b-21cc-4228-b657-24c272133855",
   "metadata": {},
   "outputs": [
    {
     "name": "stdout",
     "output_type": "stream",
     "text": [
      "Optimized Train :   0.2523464784420349\n",
      "Optimized Test  :   0.35922347130596904\n"
     ]
    }
   ],
   "source": [
    "metric = \"map@10\"\n",
    "\n",
    "model_bst = xgb.XGBRanker(booster=\"gbtree\", objective=\"rank:pairwise\",\n",
    "                        tree_method=\"gpu_hist\", sampling_method=\"gradient_based\",\n",
    "                        eval_metric=metric,\n",
    "                        n_estimators=5000,\n",
    "                        early_stopping_rounds = 50, \n",
    "                        verbosity=0,\n",
    "                        **study.best_params)\n",
    "\n",
    "model_bst.fit(X_train, y_train, group=groups_train, eval_set=[(X_train, y_train),(X_test, y_test)], eval_group=[groups_train,groups_test],  verbose=False)\n",
    "result = model_bst.evals_result()\n",
    "train_score = np.max(result['validation_0']['map@10'])\n",
    "test_score = np.max(result['validation_1']['map@10'])\n",
    "print('Optimized Train :  ', train_score)\n",
    "print('Optimized Test  :  ', test_score)"
   ]
  },
  {
   "cell_type": "code",
   "execution_count": 14,
   "id": "2542a9d8-70b5-4032-8a4c-91ae26cfcd31",
   "metadata": {},
   "outputs": [
    {
     "data": {
      "image/png": "[encoded data removed]",
      "text/plain": [
       "<Figure size 640x480 with 1 Axes>"
      ]
     },
     "metadata": {},
     "output_type": "display_data"
    }
   ],
   "source": [
    "# plot learning curves\n",
    "pyplot.plot(result['validation_0']['map@10'], label='train')\n",
    "pyplot.plot(result['validation_1']['map@10'], label='test')\n",
    "# show the legend\n",
    "pyplot.legend()\n",
    "pyplot.rcParams[\"figure.figsize\"] = (10,5)\n",
    "# show the plot\n",
    "pyplot.show()"
   ]
  },
  {
   "cell_type": "code",
   "execution_count": 41,
   "id": "200a3029",
   "metadata": {},
   "outputs": [],
   "source": [
    "path = 'outputs/kg_DP/'\n",
    "ut.model_save(model_bst,path,DataPrep)"
   ]
  },
  {
   "cell_type": "code",
   "execution_count": 15,
   "id": "ebf777e5",
   "metadata": {},
   "outputs": [
    {
     "data": {
      "image/png": "[encoded data removed]",
      "text/plain": [
       "<Figure size 1000x500 with 1 Axes>"
      ]
     },
     "metadata": {},
     "output_type": "display_data"
    }
   ],
   "source": [
    "xgb.plot_importance(model_bst)\n",
    "plt.show()"
   ]
  },
  {
   "attachments": {},
   "cell_type": "markdown",
   "id": "d7b76587-40e9-4f2c-941b-e2fa5f555360",
   "metadata": {},
   "source": [
    "## Model Evaluation"
   ]
  },
  {
   "cell_type": "code",
   "execution_count": null,
   "id": "a2bcb90f",
   "metadata": {},
   "outputs": [],
   "source": [
    "# path = 'outputs/kg_CN/'\n",
    "\n",
    "# model_bst, DataPrep = ut.load_model(path)\n",
    "\n",
    "# processed_data_dict = DataPrep.get_train_test_split(['art','usr','kg'])\n",
    "# X_train, y_train, groups_train, qid_train, X_test, y_test, qid_test, groups_test = processed_data_dict['train_test']\n",
    "# test_data = processed_data_dict['test_data']"
   ]
  },
  {
   "cell_type": "code",
   "execution_count": 16,
   "id": "70cdf7a1-32f4-45d0-9253-7f686825fa90",
   "metadata": {},
   "outputs": [],
   "source": [
    "xgb_Prediction = LtrPrediction(model_bst, test_data)"
   ]
  },
  {
   "cell_type": "code",
   "execution_count": 17,
   "id": "7d0b4d31-3f32-402e-b2eb-08971e1471e2",
   "metadata": {},
   "outputs": [
    {
     "name": "stdout",
     "output_type": "stream",
     "text": [
      "NDCG=0.540 | Recall=0.743 | Precision=0.956 \n"
     ]
    },
    {
     "data": {
      "text/plain": [
       "{'MAP@10': 0.3840104004564789,\n",
       " 'results@10': {'NDCG': 0.5401888135270644,\n",
       "  'Recall': 0.7433291835252619,\n",
       "  'Precision': 0.2444444444444445}}"
      ]
     },
     "execution_count": 17,
     "metadata": {},
     "output_type": "execute_result"
    }
   ],
   "source": [
    "results = xgb_Prediction.evaluate()\n",
    "results"
   ]
  },
  {
   "cell_type": "code",
   "execution_count": 18,
   "id": "4a604bef-955d-47a8-9326-82cc52938c97",
   "metadata": {},
   "outputs": [],
   "source": [
    "top_k_best_score_ips = xgb_Prediction.get_recomendation()"
   ]
  },
  {
   "cell_type": "code",
   "execution_count": 19,
   "id": "08600799-281d-4b56-a9cf-5d1e04e96e6f",
   "metadata": {},
   "outputs": [],
   "source": [
    "tcm_le = DataPrep.return_inverse_transform()\n",
    "top_k_best_score_ips['article_actual_ids'] = top_k_best_score_ips.apply(lambda row: tcm_le.inverse_transform(row['article_actual']) ,axis=1)\n",
    "top_k_best_score_ips['article_recomended_ids'] = top_k_best_score_ips.apply(lambda row: tcm_le.inverse_transform(row['article_prediction']) ,axis=1)"
   ]
  },
  {
   "cell_type": "code",
   "execution_count": 20,
   "id": "df65cfe3-7815-4511-a852-b524d5ddddc6",
   "metadata": {},
   "outputs": [
    {
     "data": {
      "text/html": [
       "<div>\n",
       "<style scoped>\n",
       "    .dataframe tbody tr th:only-of-type {\n",
       "        vertical-align: middle;\n",
       "    }\n",
       "\n",
       "    .dataframe tbody tr th {\n",
       "        vertical-align: top;\n",
       "    }\n",
       "\n",
       "    .dataframe thead th {\n",
       "        text-align: right;\n",
       "    }\n",
       "</style>\n",
       "<table border=\"1\" class=\"dataframe\">\n",
       "  <thead>\n",
       "    <tr style=\"text-align: right;\">\n",
       "      <th></th>\n",
       "      <th>article_actual_ids</th>\n",
       "      <th>article_recomended_ids</th>\n",
       "      <th>apk</th>\n",
       "    </tr>\n",
       "    <tr>\n",
       "      <th>qid</th>\n",
       "      <th></th>\n",
       "      <th></th>\n",
       "      <th></th>\n",
       "    </tr>\n",
       "  </thead>\n",
       "  <tbody>\n",
       "    <tr>\n",
       "      <th>32975618</th>\n",
       "      <td>[tcm:526-388698]</td>\n",
       "      <td>[tcm:526-388698, tcm:526-249037, tcm:526-259315, tcm:526-13782, tcm:526-70899, tcm:526-681575, tcm:526-276414, tcm:526-149043, tcm:526-10787, tcm:526-208086]</td>\n",
       "      <td>1.0</td>\n",
       "    </tr>\n",
       "    <tr>\n",
       "      <th>24129890</th>\n",
       "      <td>[tcm:526-93195]</td>\n",
       "      <td>[tcm:526-93195, tcm:526-209028, tcm:526-492865, tcm:526-13782, tcm:526-276414, tcm:526-16645, tcm:526-12180, tcm:526-149043, tcm:526-208086, tcm:526-670542]</td>\n",
       "      <td>1.0</td>\n",
       "    </tr>\n",
       "    <tr>\n",
       "      <th>67695988</th>\n",
       "      <td>[tcm:526-70899]</td>\n",
       "      <td>[tcm:526-70899, tcm:526-249037, tcm:526-237984, tcm:526-13782, tcm:526-22867, tcm:526-16645, tcm:526-244935, tcm:526-681575, tcm:526-12180, tcm:526-116442]</td>\n",
       "      <td>1.0</td>\n",
       "    </tr>\n",
       "    <tr>\n",
       "      <th>2570506</th>\n",
       "      <td>[tcm:526-261006]</td>\n",
       "      <td>[tcm:526-261006, tcm:526-237984, tcm:526-385364, tcm:526-16645, tcm:526-681575, tcm:526-22867, tcm:526-782343, tcm:526-653510, tcm:526-149043, tcm:526-276414]</td>\n",
       "      <td>1.0</td>\n",
       "    </tr>\n",
       "    <tr>\n",
       "      <th>64920697</th>\n",
       "      <td>[tcm:526-492865, tcm:526-249037, tcm:526-93195]</td>\n",
       "      <td>[tcm:526-492865, tcm:526-93195, tcm:526-249037, tcm:526-224772, tcm:526-244935, tcm:526-681575, tcm:526-16645, tcm:526-12180, tcm:526-682576, tcm:526-12167]</td>\n",
       "      <td>1.0</td>\n",
       "    </tr>\n",
       "    <tr>\n",
       "      <th>36756635</th>\n",
       "      <td>[tcm:526-249037]</td>\n",
       "      <td>[tcm:526-249037, tcm:526-13782, tcm:526-385364, tcm:526-80807, tcm:526-259315, tcm:526-681575, tcm:526-653510, tcm:526-149043, tcm:526-248966, tcm:526-208086]</td>\n",
       "      <td>1.0</td>\n",
       "    </tr>\n",
       "    <tr>\n",
       "      <th>45841437</th>\n",
       "      <td>[tcm:526-273898]</td>\n",
       "      <td>[tcm:526-273898, tcm:526-385364, tcm:526-13782, tcm:526-16645, tcm:526-782343, tcm:526-653510, tcm:526-22867, tcm:526-149043, tcm:526-682576, tcm:526-208086]</td>\n",
       "      <td>1.0</td>\n",
       "    </tr>\n",
       "    <tr>\n",
       "      <th>34391842</th>\n",
       "      <td>[tcm:526-93195]</td>\n",
       "      <td>[tcm:526-93195, tcm:526-237984, tcm:526-13782, tcm:526-385364, tcm:526-259315, tcm:526-70899, tcm:526-22867, tcm:526-244935, tcm:526-16645, tcm:526-12167]</td>\n",
       "      <td>1.0</td>\n",
       "    </tr>\n",
       "    <tr>\n",
       "      <th>65703510</th>\n",
       "      <td>[tcm:526-70899, tcm:526-261006]</td>\n",
       "      <td>[tcm:526-261006, tcm:526-70899, tcm:526-273898, tcm:526-385364, tcm:526-244935, tcm:526-681575, tcm:526-149043, tcm:526-208086, tcm:526-346380, tcm:526-116442]</td>\n",
       "      <td>1.0</td>\n",
       "    </tr>\n",
       "    <tr>\n",
       "      <th>55251130</th>\n",
       "      <td>[tcm:526-492865, tcm:526-93195]</td>\n",
       "      <td>[tcm:526-492865, tcm:526-93195, tcm:526-551763, tcm:526-385364, tcm:526-224772, tcm:526-149043, tcm:526-707567, tcm:526-12174, tcm:526-208086, tcm:526-116442]</td>\n",
       "      <td>1.0</td>\n",
       "    </tr>\n",
       "  </tbody>\n",
       "</table>\n",
       "</div>"
      ],
      "text/plain": [
       "                                       article_actual_ids  \\\n",
       "qid                                                         \n",
       "32975618                                 [tcm:526-388698]   \n",
       "24129890                                  [tcm:526-93195]   \n",
       "67695988                                  [tcm:526-70899]   \n",
       "2570506                                  [tcm:526-261006]   \n",
       "64920697  [tcm:526-492865, tcm:526-249037, tcm:526-93195]   \n",
       "36756635                                 [tcm:526-249037]   \n",
       "45841437                                 [tcm:526-273898]   \n",
       "34391842                                  [tcm:526-93195]   \n",
       "65703510                  [tcm:526-70899, tcm:526-261006]   \n",
       "55251130                  [tcm:526-492865, tcm:526-93195]   \n",
       "\n",
       "                                                                                                                                                   article_recomended_ids  \\\n",
       "qid                                                                                                                                                                         \n",
       "32975618    [tcm:526-388698, tcm:526-249037, tcm:526-259315, tcm:526-13782, tcm:526-70899, tcm:526-681575, tcm:526-276414, tcm:526-149043, tcm:526-10787, tcm:526-208086]   \n",
       "24129890     [tcm:526-93195, tcm:526-209028, tcm:526-492865, tcm:526-13782, tcm:526-276414, tcm:526-16645, tcm:526-12180, tcm:526-149043, tcm:526-208086, tcm:526-670542]   \n",
       "67695988      [tcm:526-70899, tcm:526-249037, tcm:526-237984, tcm:526-13782, tcm:526-22867, tcm:526-16645, tcm:526-244935, tcm:526-681575, tcm:526-12180, tcm:526-116442]   \n",
       "2570506    [tcm:526-261006, tcm:526-237984, tcm:526-385364, tcm:526-16645, tcm:526-681575, tcm:526-22867, tcm:526-782343, tcm:526-653510, tcm:526-149043, tcm:526-276414]   \n",
       "64920697     [tcm:526-492865, tcm:526-93195, tcm:526-249037, tcm:526-224772, tcm:526-244935, tcm:526-681575, tcm:526-16645, tcm:526-12180, tcm:526-682576, tcm:526-12167]   \n",
       "36756635   [tcm:526-249037, tcm:526-13782, tcm:526-385364, tcm:526-80807, tcm:526-259315, tcm:526-681575, tcm:526-653510, tcm:526-149043, tcm:526-248966, tcm:526-208086]   \n",
       "45841437    [tcm:526-273898, tcm:526-385364, tcm:526-13782, tcm:526-16645, tcm:526-782343, tcm:526-653510, tcm:526-22867, tcm:526-149043, tcm:526-682576, tcm:526-208086]   \n",
       "34391842       [tcm:526-93195, tcm:526-237984, tcm:526-13782, tcm:526-385364, tcm:526-259315, tcm:526-70899, tcm:526-22867, tcm:526-244935, tcm:526-16645, tcm:526-12167]   \n",
       "65703510  [tcm:526-261006, tcm:526-70899, tcm:526-273898, tcm:526-385364, tcm:526-244935, tcm:526-681575, tcm:526-149043, tcm:526-208086, tcm:526-346380, tcm:526-116442]   \n",
       "55251130   [tcm:526-492865, tcm:526-93195, tcm:526-551763, tcm:526-385364, tcm:526-224772, tcm:526-149043, tcm:526-707567, tcm:526-12174, tcm:526-208086, tcm:526-116442]   \n",
       "\n",
       "          apk  \n",
       "qid            \n",
       "32975618  1.0  \n",
       "24129890  1.0  \n",
       "67695988  1.0  \n",
       "2570506   1.0  \n",
       "64920697  1.0  \n",
       "36756635  1.0  \n",
       "45841437  1.0  \n",
       "34391842  1.0  \n",
       "65703510  1.0  \n",
       "55251130  1.0  "
      ]
     },
     "execution_count": 20,
     "metadata": {},
     "output_type": "execute_result"
    }
   ],
   "source": [
    "pd.set_option('max_columns', None)\n",
    "pd.set_option('display.max_colwidth', None)\n",
    "top_k_best_score_ips[['article_actual_ids','article_recomended_ids','apk']].sort_values(by='apk',ascending = False).head(10)"
   ]
  },
  {
   "attachments": {},
   "cell_type": "markdown",
   "id": "e4e38257",
   "metadata": {},
   "source": [
    "## SHAP"
   ]
  },
  {
   "cell_type": "code",
   "execution_count": 21,
   "id": "f73ea0ec",
   "metadata": {},
   "outputs": [],
   "source": [
    "import shap"
   ]
  },
  {
   "cell_type": "code",
   "execution_count": 22,
   "id": "f0c35474",
   "metadata": {},
   "outputs": [
    {
     "name": "stderr",
     "output_type": "stream",
     "text": [
      "ntree_limit is deprecated, use `iteration_range` or model slicing instead.\n"
     ]
    }
   ],
   "source": [
    "explainer = shap.Explainer(model_bst)\n",
    "shap_values = explainer(X_train)"
   ]
  },
  {
   "cell_type": "code",
   "execution_count": 23,
   "id": "35c3e68b",
   "metadata": {},
   "outputs": [
    {
     "data": {
      "image/png": "[encoded data removed]",
      "text/plain": [
       "<Figure size 800x950 with 1 Axes>"
      ]
     },
     "metadata": {},
     "output_type": "display_data"
    }
   ],
   "source": [
    "shap.summary_plot(shap_values, X_train, plot_type=\"bar\")"
   ]
  },
  {
   "attachments": {},
   "cell_type": "markdown",
   "id": "94d55c32",
   "metadata": {},
   "source": [
    "## ELI5"
   ]
  },
  {
   "cell_type": "code",
   "execution_count": 24,
   "id": "5bf8c588",
   "metadata": {},
   "outputs": [],
   "source": [
    "from eli5.xgboost import explain_weights_xgboost"
   ]
  },
  {
   "cell_type": "code",
   "execution_count": 25,
   "id": "c491d496",
   "metadata": {},
   "outputs": [
    {
     "data": {
      "text/html": [
       "\n",
       "    <style>\n",
       "    table.eli5-weights tr:hover {\n",
       "        filter: brightness(85%);\n",
       "    }\n",
       "</style>\n",
       "\n",
       "\n",
       "\n",
       "    \n",
       "\n",
       "    \n",
       "\n",
       "    \n",
       "\n",
       "    \n",
       "\n",
       "    \n",
       "\n",
       "    \n",
       "\n",
       "\n",
       "    \n",
       "\n",
       "    \n",
       "\n",
       "    \n",
       "\n",
       "    \n",
       "\n",
       "    \n",
       "\n",
       "    \n",
       "\n",
       "\n",
       "    \n",
       "\n",
       "    \n",
       "\n",
       "    \n",
       "\n",
       "    \n",
       "\n",
       "    \n",
       "        <table class=\"eli5-weights eli5-feature-importances\" style=\"border-collapse: collapse; border: none; margin-top: 0em; table-layout: auto;\">\n",
       "    <thead>\n",
       "    <tr style=\"border: none;\">\n",
       "        <th style=\"padding: 0 1em 0 0.5em; text-align: right; border: none;\">Weight</th>\n",
       "        <th style=\"padding: 0 0.5em 0 0.5em; text-align: left; border: none;\">Feature</th>\n",
       "    </tr>\n",
       "    </thead>\n",
       "    <tbody>\n",
       "    \n",
       "        <tr style=\"background-color: hsl(120, 100.00%, 80.00%); border: none;\">\n",
       "            <td style=\"padding: 0 1em 0 0.5em; text-align: right; border: none;\">\n",
       "                0.1304\n",
       "                \n",
       "            </td>\n",
       "            <td style=\"padding: 0 0.5em 0 0.5em; text-align: left; border: none;\">\n",
       "                article_length\n",
       "            </td>\n",
       "        </tr>\n",
       "    \n",
       "        <tr style=\"background-color: hsl(120, 100.00%, 81.10%); border: none;\">\n",
       "            <td style=\"padding: 0 1em 0 0.5em; text-align: right; border: none;\">\n",
       "                0.1202\n",
       "                \n",
       "            </td>\n",
       "            <td style=\"padding: 0 0.5em 0 0.5em; text-align: left; border: none;\">\n",
       "                kg_16\n",
       "            </td>\n",
       "        </tr>\n",
       "    \n",
       "        <tr style=\"background-color: hsl(120, 100.00%, 89.73%); border: none;\">\n",
       "            <td style=\"padding: 0 1em 0 0.5em; text-align: right; border: none;\">\n",
       "                0.0503\n",
       "                \n",
       "            </td>\n",
       "            <td style=\"padding: 0 0.5em 0 0.5em; text-align: left; border: none;\">\n",
       "                kg_43\n",
       "            </td>\n",
       "        </tr>\n",
       "    \n",
       "        <tr style=\"background-color: hsl(120, 100.00%, 89.88%); border: none;\">\n",
       "            <td style=\"padding: 0 1em 0 0.5em; text-align: right; border: none;\">\n",
       "                0.0493\n",
       "                \n",
       "            </td>\n",
       "            <td style=\"padding: 0 0.5em 0 0.5em; text-align: left; border: none;\">\n",
       "                article_popularity\n",
       "            </td>\n",
       "        </tr>\n",
       "    \n",
       "        <tr style=\"background-color: hsl(120, 100.00%, 90.82%); border: none;\">\n",
       "            <td style=\"padding: 0 1em 0 0.5em; text-align: right; border: none;\">\n",
       "                0.0428\n",
       "                \n",
       "            </td>\n",
       "            <td style=\"padding: 0 0.5em 0 0.5em; text-align: left; border: none;\">\n",
       "                kg_13\n",
       "            </td>\n",
       "        </tr>\n",
       "    \n",
       "        <tr style=\"background-color: hsl(120, 100.00%, 91.19%); border: none;\">\n",
       "            <td style=\"padding: 0 1em 0 0.5em; text-align: right; border: none;\">\n",
       "                0.0404\n",
       "                \n",
       "            </td>\n",
       "            <td style=\"padding: 0 0.5em 0 0.5em; text-align: left; border: none;\">\n",
       "                kg_54\n",
       "            </td>\n",
       "        </tr>\n",
       "    \n",
       "        <tr style=\"background-color: hsl(120, 100.00%, 91.47%); border: none;\">\n",
       "            <td style=\"padding: 0 1em 0 0.5em; text-align: right; border: none;\">\n",
       "                0.0386\n",
       "                \n",
       "            </td>\n",
       "            <td style=\"padding: 0 0.5em 0 0.5em; text-align: left; border: none;\">\n",
       "                kg_3\n",
       "            </td>\n",
       "        </tr>\n",
       "    \n",
       "        <tr style=\"background-color: hsl(120, 100.00%, 92.07%); border: none;\">\n",
       "            <td style=\"padding: 0 1em 0 0.5em; text-align: right; border: none;\">\n",
       "                0.0347\n",
       "                \n",
       "            </td>\n",
       "            <td style=\"padding: 0 0.5em 0 0.5em; text-align: left; border: none;\">\n",
       "                kg_46\n",
       "            </td>\n",
       "        </tr>\n",
       "    \n",
       "        <tr style=\"background-color: hsl(120, 100.00%, 92.14%); border: none;\">\n",
       "            <td style=\"padding: 0 1em 0 0.5em; text-align: right; border: none;\">\n",
       "                0.0343\n",
       "                \n",
       "            </td>\n",
       "            <td style=\"padding: 0 0.5em 0 0.5em; text-align: left; border: none;\">\n",
       "                kg_29\n",
       "            </td>\n",
       "        </tr>\n",
       "    \n",
       "        <tr style=\"background-color: hsl(120, 100.00%, 93.30%); border: none;\">\n",
       "            <td style=\"padding: 0 1em 0 0.5em; text-align: right; border: none;\">\n",
       "                0.0273\n",
       "                \n",
       "            </td>\n",
       "            <td style=\"padding: 0 0.5em 0 0.5em; text-align: left; border: none;\">\n",
       "                kg_5\n",
       "            </td>\n",
       "        </tr>\n",
       "    \n",
       "        <tr style=\"background-color: hsl(120, 100.00%, 93.78%); border: none;\">\n",
       "            <td style=\"padding: 0 1em 0 0.5em; text-align: right; border: none;\">\n",
       "                0.0246\n",
       "                \n",
       "            </td>\n",
       "            <td style=\"padding: 0 0.5em 0 0.5em; text-align: left; border: none;\">\n",
       "                kg_22\n",
       "            </td>\n",
       "        </tr>\n",
       "    \n",
       "        <tr style=\"background-color: hsl(120, 100.00%, 94.26%); border: none;\">\n",
       "            <td style=\"padding: 0 1em 0 0.5em; text-align: right; border: none;\">\n",
       "                0.0219\n",
       "                \n",
       "            </td>\n",
       "            <td style=\"padding: 0 0.5em 0 0.5em; text-align: left; border: none;\">\n",
       "                kg_11\n",
       "            </td>\n",
       "        </tr>\n",
       "    \n",
       "        <tr style=\"background-color: hsl(120, 100.00%, 94.37%); border: none;\">\n",
       "            <td style=\"padding: 0 1em 0 0.5em; text-align: right; border: none;\">\n",
       "                0.0213\n",
       "                \n",
       "            </td>\n",
       "            <td style=\"padding: 0 0.5em 0 0.5em; text-align: left; border: none;\">\n",
       "                kg_26\n",
       "            </td>\n",
       "        </tr>\n",
       "    \n",
       "        <tr style=\"background-color: hsl(120, 100.00%, 94.46%); border: none;\">\n",
       "            <td style=\"padding: 0 1em 0 0.5em; text-align: right; border: none;\">\n",
       "                0.0209\n",
       "                \n",
       "            </td>\n",
       "            <td style=\"padding: 0 0.5em 0 0.5em; text-align: left; border: none;\">\n",
       "                kg_56\n",
       "            </td>\n",
       "        </tr>\n",
       "    \n",
       "        <tr style=\"background-color: hsl(120, 100.00%, 94.59%); border: none;\">\n",
       "            <td style=\"padding: 0 1em 0 0.5em; text-align: right; border: none;\">\n",
       "                0.0201\n",
       "                \n",
       "            </td>\n",
       "            <td style=\"padding: 0 0.5em 0 0.5em; text-align: left; border: none;\">\n",
       "                kg_36\n",
       "            </td>\n",
       "        </tr>\n",
       "    \n",
       "        <tr style=\"background-color: hsl(120, 100.00%, 94.86%); border: none;\">\n",
       "            <td style=\"padding: 0 1em 0 0.5em; text-align: right; border: none;\">\n",
       "                0.0187\n",
       "                \n",
       "            </td>\n",
       "            <td style=\"padding: 0 0.5em 0 0.5em; text-align: left; border: none;\">\n",
       "                kg_12\n",
       "            </td>\n",
       "        </tr>\n",
       "    \n",
       "        <tr style=\"background-color: hsl(120, 100.00%, 95.93%); border: none;\">\n",
       "            <td style=\"padding: 0 1em 0 0.5em; text-align: right; border: none;\">\n",
       "                0.0134\n",
       "                \n",
       "            </td>\n",
       "            <td style=\"padding: 0 0.5em 0 0.5em; text-align: left; border: none;\">\n",
       "                kg_30\n",
       "            </td>\n",
       "        </tr>\n",
       "    \n",
       "        <tr style=\"background-color: hsl(120, 100.00%, 95.94%); border: none;\">\n",
       "            <td style=\"padding: 0 1em 0 0.5em; text-align: right; border: none;\">\n",
       "                0.0133\n",
       "                \n",
       "            </td>\n",
       "            <td style=\"padding: 0 0.5em 0 0.5em; text-align: left; border: none;\">\n",
       "                kg_21\n",
       "            </td>\n",
       "        </tr>\n",
       "    \n",
       "        <tr style=\"background-color: hsl(120, 100.00%, 96.09%); border: none;\">\n",
       "            <td style=\"padding: 0 1em 0 0.5em; text-align: right; border: none;\">\n",
       "                0.0127\n",
       "                \n",
       "            </td>\n",
       "            <td style=\"padding: 0 0.5em 0 0.5em; text-align: left; border: none;\">\n",
       "                kg_34\n",
       "            </td>\n",
       "        </tr>\n",
       "    \n",
       "        <tr style=\"background-color: hsl(120, 100.00%, 96.16%); border: none;\">\n",
       "            <td style=\"padding: 0 1em 0 0.5em; text-align: right; border: none;\">\n",
       "                0.0124\n",
       "                \n",
       "            </td>\n",
       "            <td style=\"padding: 0 0.5em 0 0.5em; text-align: left; border: none;\">\n",
       "                kg_7\n",
       "            </td>\n",
       "        </tr>\n",
       "    \n",
       "    \n",
       "        \n",
       "            <tr style=\"background-color: hsl(120, 100.00%, 96.16%); border: none;\">\n",
       "                <td colspan=\"2\" style=\"padding: 0 0.5em 0 0.5em; text-align: center; border: none; white-space: nowrap;\">\n",
       "                    <i>&hellip; 67 more &hellip;</i>\n",
       "                </td>\n",
       "            </tr>\n",
       "        \n",
       "    \n",
       "    </tbody>\n",
       "</table>\n",
       "    \n",
       "\n",
       "    \n",
       "\n",
       "\n",
       "    \n",
       "\n",
       "    \n",
       "\n",
       "    \n",
       "\n",
       "    \n",
       "\n",
       "    \n",
       "\n",
       "    \n",
       "\n",
       "\n",
       "\n"
      ],
      "text/plain": [
       "Explanation(estimator=\"XGBRanker(alpha=0.44165865059740406, base_score=0.5, booster='gbtree',\\n          callbacks=None, colsample_bylevel=1, colsample_bynode=1,\\n          colsample_bytree=0.65, early_stopping_rounds=50,\\n          enable_categorical=False, eta=0.178, eval_metric='map@10', gamma=10.0,\\n          gpu_id=0, grow_policy='depthwise', importance_type=None,\\n          interaction_constraints='', learning_rate=0.178000003, max_bin=256,\\n          max_cat_to_onehot=4, max_delta_step=9.19, max_depth=2, max_leaves=0,\\n          min_child_weight=1.45, missing=nan, monotone_constraints='()',\\n          n_estimators=5000, n_jobs=0, num_parallel_tree=1, predictor='auto',\\n          random_state=0, ...)\", description='\\nXGBoost feature importances; values are numbers 0 <= x <= 1;\\nall values sum to 1.\\n', error=None, method='feature importances', is_regression=False, targets=None, feature_importances=FeatureImportances(importances=[FeatureWeight(feature='article_length', weight=0.13036801, std=None, value=None), FeatureWeight(feature='kg_16', weight=0.12024873, std=None, value=None), FeatureWeight(feature='kg_43', weight=0.05033225, std=None, value=None), FeatureWeight(feature='article_popularity', weight=0.049275104, std=None, value=None), FeatureWeight(feature='kg_13', weight=0.042834252, std=None, value=None), FeatureWeight(feature='kg_54', weight=0.040411863, std=None, value=None), FeatureWeight(feature='kg_3', weight=0.03858059, std=None, value=None), FeatureWeight(feature='kg_46', weight=0.03474951, std=None, value=None), FeatureWeight(feature='kg_29', weight=0.034340944, std=None, value=None), FeatureWeight(feature='kg_5', weight=0.0273198, std=None, value=None), FeatureWeight(feature='kg_22', weight=0.024598155, std=None, value=None), FeatureWeight(feature='kg_11', weight=0.02192009, std=None, value=None), FeatureWeight(feature='kg_26', weight=0.021342421, std=None, value=None), FeatureWeight(feature='kg_56', weight=0.020857321, std=None, value=None), FeatureWeight(feature='kg_36', weight=0.020127269, std=None, value=None), FeatureWeight(feature='kg_12', weight=0.018707426, std=None, value=None), FeatureWeight(feature='kg_30', weight=0.01343105, std=None, value=None), FeatureWeight(feature='kg_21', weight=0.013340772, std=None, value=None), FeatureWeight(feature='kg_34', weight=0.012683164, std=None, value=None), FeatureWeight(feature='kg_7', weight=0.012361823, std=None, value=None)], remaining=67), decision_tree=None, highlight_spaces=None, transition_features=None, image=None)"
      ]
     },
     "execution_count": 25,
     "metadata": {},
     "output_type": "execute_result"
    }
   ],
   "source": [
    "explain_weights_xgboost(model_bst)"
   ]
  }
 ],
 "metadata": {
  "instance_type": "ml.g4dn.xlarge",
  "kernelspec": {
   "display_name": "tf_gpu",
   "language": "python",
   "name": "python3"
  },
  "language_info": {
   "codemirror_mode": {
    "name": "ipython",
    "version": 3
   },
   "file_extension": ".py",
   "mimetype": "text/x-python",
   "name": "python",
   "nbconvert_exporter": "python",
   "pygments_lexer": "ipython3",
   "version": "3.7.10"
  },
  "lcc_arn": "arn:aws:sagemaker:us-east-1:647324198242:studio-lifecycle-config/dlsg-sagemaker-kernel-on-start-d120ff"
 },
 "nbformat": 4,
 "nbformat_minor": 5
}
